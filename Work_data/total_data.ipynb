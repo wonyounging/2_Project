{
 "cells": [
  {
   "cell_type": "code",
   "execution_count": 1,
   "metadata": {},
   "outputs": [],
   "source": [
    "import pandas as pd"
   ]
  },
  {
   "cell_type": "code",
   "execution_count": 2,
   "metadata": {},
   "outputs": [],
   "source": [
    "df1 = pd.read_csv('d:/2nd_project/Data/talk_data/영화 주제 대화 말뭉치 묶음(Train_Re).csv')\n",
    "df2 = pd.read_csv('d:/2nd_project/Data/talk_data/영화 주제 대화 말뭉치 묶음(Valid_Re).csv')"
   ]
  },
  {
   "cell_type": "code",
   "execution_count": 3,
   "metadata": {},
   "outputs": [
    {
     "data": {
      "text/html": [
       "<div>\n",
       "<style scoped>\n",
       "    .dataframe tbody tr th:only-of-type {\n",
       "        vertical-align: middle;\n",
       "    }\n",
       "\n",
       "    .dataframe tbody tr th {\n",
       "        vertical-align: top;\n",
       "    }\n",
       "\n",
       "    .dataframe thead th {\n",
       "        text-align: right;\n",
       "    }\n",
       "</style>\n",
       "<table border=\"1\" class=\"dataframe\">\n",
       "  <thead>\n",
       "    <tr style=\"text-align: right;\">\n",
       "      <th></th>\n",
       "      <th>text</th>\n",
       "    </tr>\n",
       "  </thead>\n",
       "  <tbody>\n",
       "    <tr>\n",
       "      <th>0</th>\n",
       "      <td>다들 기생충 보셨어요</td>\n",
       "    </tr>\n",
       "    <tr>\n",
       "      <th>1</th>\n",
       "      <td>오스카 상 후보에 올랐단 소식 듣고 바로 봤어요</td>\n",
       "    </tr>\n",
       "    <tr>\n",
       "      <th>2</th>\n",
       "      <td>저는 개인적으로 다크한 걸 안 좋아해서 아직 못 봤어요</td>\n",
       "    </tr>\n",
       "    <tr>\n",
       "      <th>3</th>\n",
       "      <td>음그럴 수 있죠</td>\n",
       "    </tr>\n",
       "    <tr>\n",
       "      <th>4</th>\n",
       "      <td>봉준호 감독이 차기작을 준비하고 있다고 해서 한 번 그냥 물어봤어요 하하</td>\n",
       "    </tr>\n",
       "    <tr>\n",
       "      <th>...</th>\n",
       "      <td>...</td>\n",
       "    </tr>\n",
       "    <tr>\n",
       "      <th>10634</th>\n",
       "      <td>응 맞아 그런 건 좋아해</td>\n",
       "    </tr>\n",
       "    <tr>\n",
       "      <th>10635</th>\n",
       "      <td>미스터리한 것도 좋아하긴 해 너무 놀래키거나 무섭지 않으면</td>\n",
       "    </tr>\n",
       "    <tr>\n",
       "      <th>10636</th>\n",
       "      <td>넌 미스터리물 좋아해</td>\n",
       "    </tr>\n",
       "    <tr>\n",
       "      <th>10637</th>\n",
       "      <td>응응 나도 완전 좋아해</td>\n",
       "    </tr>\n",
       "    <tr>\n",
       "      <th>10638</th>\n",
       "      <td>나중에 좋은 영화 추천해 줘</td>\n",
       "    </tr>\n",
       "  </tbody>\n",
       "</table>\n",
       "<p>83122 rows × 1 columns</p>\n",
       "</div>"
      ],
      "text/plain": [
       "                                           text\n",
       "0                                   다들 기생충 보셨어요\n",
       "1                    오스카 상 후보에 올랐단 소식 듣고 바로 봤어요\n",
       "2                저는 개인적으로 다크한 걸 안 좋아해서 아직 못 봤어요\n",
       "3                                      음그럴 수 있죠\n",
       "4      봉준호 감독이 차기작을 준비하고 있다고 해서 한 번 그냥 물어봤어요 하하\n",
       "...                                         ...\n",
       "10634                             응 맞아 그런 건 좋아해\n",
       "10635          미스터리한 것도 좋아하긴 해 너무 놀래키거나 무섭지 않으면\n",
       "10636                               넌 미스터리물 좋아해\n",
       "10637                              응응 나도 완전 좋아해\n",
       "10638                           나중에 좋은 영화 추천해 줘\n",
       "\n",
       "[83122 rows x 1 columns]"
      ]
     },
     "execution_count": 3,
     "metadata": {},
     "output_type": "execute_result"
    }
   ],
   "source": [
    "df = pd.concat([df1, df2])\n",
    "df"
   ]
  },
  {
   "cell_type": "code",
   "execution_count": 9,
   "metadata": {},
   "outputs": [],
   "source": [
    "df.to_csv('d:/2nd_project/Data/talk_data/영화 주제 대화 말뭉치 묶음(Total_Re).csv', index=None)"
   ]
  }
 ],
 "metadata": {
  "kernelspec": {
   "display_name": "Python 3",
   "language": "python",
   "name": "python3"
  },
  "language_info": {
   "codemirror_mode": {
    "name": "ipython",
    "version": 3
   },
   "file_extension": ".py",
   "mimetype": "text/x-python",
   "name": "python",
   "nbconvert_exporter": "python",
   "pygments_lexer": "ipython3",
   "version": "3.8.7"
  },
  "orig_nbformat": 4
 },
 "nbformat": 4,
 "nbformat_minor": 2
}
