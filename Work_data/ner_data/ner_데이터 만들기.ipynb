{
 "cells": [
  {
   "cell_type": "markdown",
   "metadata": {},
   "source": [
    "# 데이터 불러오기"
   ]
  },
  {
   "cell_type": "code",
   "execution_count": 1,
   "metadata": {},
   "outputs": [
    {
     "data": {
      "text/html": [
       "<div>\n",
       "<style scoped>\n",
       "    .dataframe tbody tr th:only-of-type {\n",
       "        vertical-align: middle;\n",
       "    }\n",
       "\n",
       "    .dataframe tbody tr th {\n",
       "        vertical-align: top;\n",
       "    }\n",
       "\n",
       "    .dataframe thead th {\n",
       "        text-align: right;\n",
       "    }\n",
       "</style>\n",
       "<table border=\"1\" class=\"dataframe\">\n",
       "  <thead>\n",
       "    <tr style=\"text-align: right;\">\n",
       "      <th></th>\n",
       "      <th>text</th>\n",
       "    </tr>\n",
       "  </thead>\n",
       "  <tbody>\n",
       "    <tr>\n",
       "      <th>0</th>\n",
       "      <td>다들 기생충 보셨어요</td>\n",
       "    </tr>\n",
       "    <tr>\n",
       "      <th>1</th>\n",
       "      <td>오스카 상 후보에 올랐단 소식 듣고 바로 봤어요</td>\n",
       "    </tr>\n",
       "    <tr>\n",
       "      <th>2</th>\n",
       "      <td>저는 개인적으로 다크한 걸 안 좋아해서 아직 못 봤어요</td>\n",
       "    </tr>\n",
       "    <tr>\n",
       "      <th>3</th>\n",
       "      <td>음그럴 수 있죠</td>\n",
       "    </tr>\n",
       "    <tr>\n",
       "      <th>4</th>\n",
       "      <td>봉준호 감독이 차기작을 준비하고 있다고 해서 한 번 그냥 물어봤어요 하하</td>\n",
       "    </tr>\n",
       "    <tr>\n",
       "      <th>...</th>\n",
       "      <td>...</td>\n",
       "    </tr>\n",
       "    <tr>\n",
       "      <th>72484</th>\n",
       "      <td>너는 영화 예매했어</td>\n",
       "    </tr>\n",
       "    <tr>\n",
       "      <th>72485</th>\n",
       "      <td>아직 안했는데 요즘은 자리 많아서 보기 전에 해도 돼</td>\n",
       "    </tr>\n",
       "    <tr>\n",
       "      <th>72486</th>\n",
       "      <td>그래 그래서 낼 몇시꺼 보게</td>\n",
       "    </tr>\n",
       "    <tr>\n",
       "      <th>72487</th>\n",
       "      <td>아마 3시꺼 볼려고 왜</td>\n",
       "    </tr>\n",
       "    <tr>\n",
       "      <th>72488</th>\n",
       "      <td>아니 그냥 키키 보고서 후기 알려줘</td>\n",
       "    </tr>\n",
       "  </tbody>\n",
       "</table>\n",
       "<p>72489 rows × 1 columns</p>\n",
       "</div>"
      ],
      "text/plain": [
       "                                           text\n",
       "0                                   다들 기생충 보셨어요\n",
       "1                    오스카 상 후보에 올랐단 소식 듣고 바로 봤어요\n",
       "2                저는 개인적으로 다크한 걸 안 좋아해서 아직 못 봤어요\n",
       "3                                      음그럴 수 있죠\n",
       "4      봉준호 감독이 차기작을 준비하고 있다고 해서 한 번 그냥 물어봤어요 하하\n",
       "...                                         ...\n",
       "72484                                너는 영화 예매했어\n",
       "72485             아직 안했는데 요즘은 자리 많아서 보기 전에 해도 돼\n",
       "72486                           그래 그래서 낼 몇시꺼 보게\n",
       "72487                              아마 3시꺼 볼려고 왜\n",
       "72488                       아니 그냥 키키 보고서 후기 알려줘\n",
       "\n",
       "[72489 rows x 1 columns]"
      ]
     },
     "execution_count": 1,
     "metadata": {},
     "output_type": "execute_result"
    }
   ],
   "source": [
    "import pandas as pd\n",
    "\n",
    "df = pd.read_csv('c:/2nd_project/Data/talk_data/영화 주제 대화 말뭉치 묶음(Train_Re).csv')\n",
    "df"
   ]
  },
  {
   "cell_type": "code",
   "execution_count": 5,
   "metadata": {},
   "outputs": [
    {
     "name": "stdout",
     "output_type": "stream",
     "text": [
      "봉준호 감독이 차기작을 준비하고 있다고 해서 한 번 그냥 물어봤어요 하하\n"
     ]
    }
   ],
   "source": [
    "txt = df.iloc[4][0]\n",
    "print(txt)"
   ]
  },
  {
   "cell_type": "markdown",
   "metadata": {},
   "source": [
    "# 문장을 토그나이저로 분리"
   ]
  },
  {
   "cell_type": "code",
   "execution_count": 9,
   "metadata": {},
   "outputs": [
    {
     "name": "stdout",
     "output_type": "stream",
     "text": [
      "봉준호 감독이 차기작을 준비하고 있다고 해서 한 번 그냥 물어봤어요 하하\n",
      "['봉', '준호', '감독', '이', '차기', '작', '을', '준비', '하', '고', '있', '다고', '하', '어서', '한', '번', '그냥', '물어보', '았', '어요', '하하']\n",
      "['봉', '봉준호', '준호', '감독', '차기', '차기작', '작', '준비', '번']\n",
      "[('봉', 'NNG'), ('준호', 'NNG'), ('감독', 'NNG'), ('이', 'JKS'), ('차기', 'NNG'), ('작', 'NNG'), ('을', 'JKO'), ('준비', 'NNG'), ('하', 'XSV'), ('고', 'ECE'), ('있', 'VXV'), ('다고', 'EFN'), ('하', 'VV'), ('어서', 'ECD'), ('한', 'MDN'), ('번', 'NNB'), ('그냥', 'MAG'), ('물어보', 'VV'), ('았', 'EPT'), ('어요', 'EFN'), ('하하', 'MAG')]\n"
     ]
    }
   ],
   "source": [
    "from konlpy.tag import Kkma\n",
    "kkm=Kkma()\n",
    "\n",
    "print(txt)\n",
    "print(kkm.morphs(txt)) #형태소 분석\n",
    "print(kkm.nouns(txt))\n",
    "print(kkm.pos(txt))\n",
    "# print(kkm.tagset) #품사 목록"
   ]
  },
  {
   "cell_type": "code",
   "execution_count": 11,
   "metadata": {},
   "outputs": [
    {
     "data": {
      "text/plain": [
       "[('봉', 'NNG'),\n",
       " ('준호', 'NNG'),\n",
       " ('감독', 'NNG'),\n",
       " ('이', 'JKS'),\n",
       " ('차기', 'NNG'),\n",
       " ('작', 'NNG'),\n",
       " ('을', 'JKO'),\n",
       " ('준비', 'NNG'),\n",
       " ('하', 'XSV'),\n",
       " ('고', 'ECE'),\n",
       " ('있', 'VXV'),\n",
       " ('다고', 'EFN'),\n",
       " ('하', 'VV'),\n",
       " ('어서', 'ECD'),\n",
       " ('한', 'MDN'),\n",
       " ('번', 'NNB'),\n",
       " ('그냥', 'MAG'),\n",
       " ('물어보', 'VV'),\n",
       " ('았', 'EPT'),\n",
       " ('어요', 'EFN'),\n",
       " ('하하', 'MAG')]"
      ]
     },
     "execution_count": 11,
     "metadata": {},
     "output_type": "execute_result"
    }
   ],
   "source": [
    "kkm.pos(txt)"
   ]
  }
 ],
 "metadata": {
  "kernelspec": {
   "display_name": "Python 3",
   "language": "python",
   "name": "python3"
  },
  "language_info": {
   "codemirror_mode": {
    "name": "ipython",
    "version": 3
   },
   "file_extension": ".py",
   "mimetype": "text/x-python",
   "name": "python",
   "nbconvert_exporter": "python",
   "pygments_lexer": "ipython3",
   "version": "3.9.13"
  },
  "orig_nbformat": 4
 },
 "nbformat": 4,
 "nbformat_minor": 2
}
