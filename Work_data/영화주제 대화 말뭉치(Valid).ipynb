{
 "cells": [
  {
   "cell_type": "code",
   "execution_count": 1,
   "metadata": {},
   "outputs": [],
   "source": [
    "import pandas as pd\n",
    "import zipfile\n",
    "import json\n",
    "import re"
   ]
  },
  {
   "cell_type": "code",
   "execution_count": 3,
   "metadata": {},
   "outputs": [],
   "source": [
    "zip_file_list = ['VL_01. KAKAO', 'VL_02. FACEBOOK', 'VL_03. INSTAGRAM', 'VL_04. BAND', 'VL_05. NATEON']\n",
    "\n",
    "talks = []\n",
    "pattern = r'^\\d :.*$'\n",
    "\n",
    "for i in range(len(zip_file_list)):\n",
    "    zip_file_path = f'c:/2nd_project/Data/talk_data/Valid_label_zip/{zip_file_list[i]}.zip'\n",
    "\n",
    "    # zip 파일 열기\n",
    "    with zipfile.ZipFile(zip_file_path, 'r') as zip_ref:\n",
    "        # zip 파일 안에 있는 파일 목록 얻기\n",
    "        file_list = zip_ref.namelist()\n",
    "\n",
    "        # JSON 파일들을 하나씩 읽어오기\n",
    "        for file_name in file_list:\n",
    "            try:\n",
    "                with zip_ref.open(file_name) as json_file:\n",
    "                    data = json.load(json_file)\n",
    "                    if data['info'][0]['annotations']['subject'] == '영화/만화':\n",
    "                        texts = data['info'][0]['annotations']['text']\n",
    "                        texts = texts.replace(';', ':').replace('\\xa0', ' ').split('\\n')\n",
    "                        for text in texts:\n",
    "                            if re.match(pattern, text):\n",
    "                                line = text.split(':')[1]\n",
    "                                if line.startswith(' ') == True:\n",
    "                                    line = line.lstrip(' ') \n",
    "                                line.strip()\n",
    "                                talks.append(line)\n",
    "            except:\n",
    "                print('파일 실패 : ', file_name)\n",
    "df = pd.DataFrame(data=talks, columns=['text'])"
   ]
  },
  {
   "cell_type": "code",
   "execution_count": 4,
   "metadata": {},
   "outputs": [
    {
     "data": {
      "text/html": [
       "<div>\n",
       "<style scoped>\n",
       "    .dataframe tbody tr th:only-of-type {\n",
       "        vertical-align: middle;\n",
       "    }\n",
       "\n",
       "    .dataframe tbody tr th {\n",
       "        vertical-align: top;\n",
       "    }\n",
       "\n",
       "    .dataframe thead th {\n",
       "        text-align: right;\n",
       "    }\n",
       "</style>\n",
       "<table border=\"1\" class=\"dataframe\">\n",
       "  <thead>\n",
       "    <tr style=\"text-align: right;\">\n",
       "      <th></th>\n",
       "      <th>text</th>\n",
       "    </tr>\n",
       "  </thead>\n",
       "  <tbody>\n",
       "    <tr>\n",
       "      <th>0</th>\n",
       "      <td>요즘 볼만한 애니가 없어</td>\n",
       "    </tr>\n",
       "    <tr>\n",
       "      <th>1</th>\n",
       "      <td>다 큰 어른이 무슨 애니를 보니</td>\n",
       "    </tr>\n",
       "    <tr>\n",
       "      <th>2</th>\n",
       "      <td>그런가 애니 말고 이제 영화나 볼까?</td>\n",
       "    </tr>\n",
       "    <tr>\n",
       "      <th>3</th>\n",
       "      <td>그래 애니 말고 영화나 봐ㅎ</td>\n",
       "    </tr>\n",
       "    <tr>\n",
       "      <th>4</th>\n",
       "      <td>알겠어 영화관 가서 영화 봐야겠다</td>\n",
       "    </tr>\n",
       "  </tbody>\n",
       "</table>\n",
       "</div>"
      ],
      "text/plain": [
       "                   text\n",
       "0         요즘 볼만한 애니가 없어\n",
       "1     다 큰 어른이 무슨 애니를 보니\n",
       "2  그런가 애니 말고 이제 영화나 볼까?\n",
       "3       그래 애니 말고 영화나 봐ㅎ\n",
       "4    알겠어 영화관 가서 영화 봐야겠다"
      ]
     },
     "execution_count": 4,
     "metadata": {},
     "output_type": "execute_result"
    }
   ],
   "source": [
    "df.head()"
   ]
  },
  {
   "cell_type": "code",
   "execution_count": 5,
   "metadata": {},
   "outputs": [
    {
     "data": {
      "text/html": [
       "<div>\n",
       "<style scoped>\n",
       "    .dataframe tbody tr th:only-of-type {\n",
       "        vertical-align: middle;\n",
       "    }\n",
       "\n",
       "    .dataframe tbody tr th {\n",
       "        vertical-align: top;\n",
       "    }\n",
       "\n",
       "    .dataframe thead th {\n",
       "        text-align: right;\n",
       "    }\n",
       "</style>\n",
       "<table border=\"1\" class=\"dataframe\">\n",
       "  <thead>\n",
       "    <tr style=\"text-align: right;\">\n",
       "      <th></th>\n",
       "      <th>text</th>\n",
       "    </tr>\n",
       "  </thead>\n",
       "  <tbody>\n",
       "    <tr>\n",
       "      <th>10635</th>\n",
       "      <td>응 맞아 그런 건 좋아해!</td>\n",
       "    </tr>\n",
       "    <tr>\n",
       "      <th>10636</th>\n",
       "      <td>미스터리한 것도 좋아하긴 해 너무 놀래키거나 무섭지 않으면!</td>\n",
       "    </tr>\n",
       "    <tr>\n",
       "      <th>10637</th>\n",
       "      <td>넌 미스터리물 좋아해?</td>\n",
       "    </tr>\n",
       "    <tr>\n",
       "      <th>10638</th>\n",
       "      <td>응응 나도 완전 좋아해</td>\n",
       "    </tr>\n",
       "    <tr>\n",
       "      <th>10639</th>\n",
       "      <td>나중에 좋은 영화 추천해 줘!</td>\n",
       "    </tr>\n",
       "  </tbody>\n",
       "</table>\n",
       "</div>"
      ],
      "text/plain": [
       "                                    text\n",
       "10635                     응 맞아 그런 건 좋아해!\n",
       "10636  미스터리한 것도 좋아하긴 해 너무 놀래키거나 무섭지 않으면!\n",
       "10637                       넌 미스터리물 좋아해?\n",
       "10638                       응응 나도 완전 좋아해\n",
       "10639                   나중에 좋은 영화 추천해 줘!"
      ]
     },
     "execution_count": 5,
     "metadata": {},
     "output_type": "execute_result"
    }
   ],
   "source": [
    "df.tail()"
   ]
  },
  {
   "cell_type": "code",
   "execution_count": 6,
   "metadata": {},
   "outputs": [],
   "source": [
    "df.to_csv('c:/2nd_project/Data/talk_data/영화 주제 대화 말뭉치 묶음(Valid).csv', index=None)"
   ]
  },
  {
   "cell_type": "code",
   "execution_count": null,
   "metadata": {},
   "outputs": [],
   "source": []
  }
 ],
 "metadata": {
  "kernelspec": {
   "display_name": "Python 3",
   "language": "python",
   "name": "python3"
  },
  "language_info": {
   "codemirror_mode": {
    "name": "ipython",
    "version": 3
   },
   "file_extension": ".py",
   "mimetype": "text/x-python",
   "name": "python",
   "nbconvert_exporter": "python",
   "pygments_lexer": "ipython3",
   "version": "3.9.13"
  },
  "orig_nbformat": 4
 },
 "nbformat": 4,
 "nbformat_minor": 2
}
