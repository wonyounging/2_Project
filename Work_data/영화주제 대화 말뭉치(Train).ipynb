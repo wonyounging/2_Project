{
 "cells": [
  {
   "cell_type": "code",
   "execution_count": 1,
   "metadata": {},
   "outputs": [],
   "source": [
    "import pandas as pd\n",
    "import zipfile\n",
    "import json\n",
    "import re"
   ]
  },
  {
   "cell_type": "code",
   "execution_count": 2,
   "metadata": {},
   "outputs": [
    {
     "name": "stdout",
     "output_type": "stream",
     "text": [
      "파일 실패 :  KAKAO_1648_13.json\n"
     ]
    }
   ],
   "source": [
    "zip_file_list = ['TL_01. KAKAO(1)', 'TL_01. KAKAO(2)', 'TL_01. KAKAO(3)', 'TL_01. KAKAO(4)',\n",
    "                'TL_02. FACEBOOK', 'TL_03. INSTAGRAM', 'TL_04. BAND', 'TL_05. NATEON']\n",
    "\n",
    "talks = []\n",
    "pattern = r'^\\d :.*$'\n",
    "\n",
    "for i in range(len(zip_file_list)):\n",
    "    zip_file_path = f'c:/2nd_project/talk_data/Train_label_zip/{zip_file_list[i]}.zip'\n",
    "\n",
    "    # zip 파일 열기\n",
    "    with zipfile.ZipFile(zip_file_path, 'r') as zip_ref:\n",
    "        # zip 파일 안에 있는 파일 목록 얻기\n",
    "        file_list = zip_ref.namelist()\n",
    "\n",
    "        # JSON 파일들을 하나씩 읽어오기\n",
    "        for file_name in file_list:\n",
    "            try:\n",
    "                with zip_ref.open(file_name) as json_file:\n",
    "                    data = json.load(json_file)\n",
    "                    if data['info'][0]['annotations']['subject'] == '영화/만화':\n",
    "                        texts = data['info'][0]['annotations']['text']\n",
    "                        texts = texts.replace(';', ':').replace('\\xa0', ' ').split('\\n')\n",
    "                        for text in texts:\n",
    "                            if re.match(pattern, text):\n",
    "                                line = text.split(':')[1]\n",
    "                                if line.startswith(' ') == True:\n",
    "                                    line = line.lstrip(' ') \n",
    "                                talks.append(line)\n",
    "            except:\n",
    "                print('파일 실패 : ', file_name)\n",
    "df = pd.DataFrame(data=talks, columns=['text'])"
   ]
  },
  {
   "cell_type": "code",
   "execution_count": 3,
   "metadata": {},
   "outputs": [
    {
     "data": {
      "text/html": [
       "<div>\n",
       "<style scoped>\n",
       "    .dataframe tbody tr th:only-of-type {\n",
       "        vertical-align: middle;\n",
       "    }\n",
       "\n",
       "    .dataframe tbody tr th {\n",
       "        vertical-align: top;\n",
       "    }\n",
       "\n",
       "    .dataframe thead th {\n",
       "        text-align: right;\n",
       "    }\n",
       "</style>\n",
       "<table border=\"1\" class=\"dataframe\">\n",
       "  <thead>\n",
       "    <tr style=\"text-align: right;\">\n",
       "      <th></th>\n",
       "      <th>text</th>\n",
       "    </tr>\n",
       "  </thead>\n",
       "  <tbody>\n",
       "    <tr>\n",
       "      <th>0</th>\n",
       "      <td>다들 기생충 보셨어요?</td>\n",
       "    </tr>\n",
       "    <tr>\n",
       "      <th>1</th>\n",
       "      <td>오스카 상 후보에 올랐단 소식 듣고 바로 봤어요</td>\n",
       "    </tr>\n",
       "    <tr>\n",
       "      <th>2</th>\n",
       "      <td>저는 개인적으로 다크한 걸 안 좋아해서 아직 못 봤어요</td>\n",
       "    </tr>\n",
       "    <tr>\n",
       "      <th>3</th>\n",
       "      <td>음...그럴 수 있죠!</td>\n",
       "    </tr>\n",
       "    <tr>\n",
       "      <th>4</th>\n",
       "      <td>봉준호 감독이 차기작을 준비하고 있다고 해서 한 번 그냥 물어봤어요 하하</td>\n",
       "    </tr>\n",
       "  </tbody>\n",
       "</table>\n",
       "</div>"
      ],
      "text/plain": [
       "                                       text\n",
       "0                              다들 기생충 보셨어요?\n",
       "1                오스카 상 후보에 올랐단 소식 듣고 바로 봤어요\n",
       "2            저는 개인적으로 다크한 걸 안 좋아해서 아직 못 봤어요\n",
       "3                              음...그럴 수 있죠!\n",
       "4  봉준호 감독이 차기작을 준비하고 있다고 해서 한 번 그냥 물어봤어요 하하"
      ]
     },
     "execution_count": 3,
     "metadata": {},
     "output_type": "execute_result"
    }
   ],
   "source": [
    "df.head()"
   ]
  },
  {
   "cell_type": "code",
   "execution_count": 4,
   "metadata": {},
   "outputs": [
    {
     "data": {
      "text/html": [
       "<div>\n",
       "<style scoped>\n",
       "    .dataframe tbody tr th:only-of-type {\n",
       "        vertical-align: middle;\n",
       "    }\n",
       "\n",
       "    .dataframe tbody tr th {\n",
       "        vertical-align: top;\n",
       "    }\n",
       "\n",
       "    .dataframe thead th {\n",
       "        text-align: right;\n",
       "    }\n",
       "</style>\n",
       "<table border=\"1\" class=\"dataframe\">\n",
       "  <thead>\n",
       "    <tr style=\"text-align: right;\">\n",
       "      <th></th>\n",
       "      <th>text</th>\n",
       "    </tr>\n",
       "  </thead>\n",
       "  <tbody>\n",
       "    <tr>\n",
       "      <th>72484</th>\n",
       "      <td>너는 영화 예매했어?</td>\n",
       "    </tr>\n",
       "    <tr>\n",
       "      <th>72485</th>\n",
       "      <td>아직 안했는데 요즘은 자리 많아서 보기 전에 해도 돼</td>\n",
       "    </tr>\n",
       "    <tr>\n",
       "      <th>72486</th>\n",
       "      <td>그래? 그래서 낼 몇시꺼 보게?</td>\n",
       "    </tr>\n",
       "    <tr>\n",
       "      <th>72487</th>\n",
       "      <td>아마 3시꺼 볼려고 왜?</td>\n",
       "    </tr>\n",
       "    <tr>\n",
       "      <th>72488</th>\n",
       "      <td>아니 그냥 키키 보고서 후기 알려줘</td>\n",
       "    </tr>\n",
       "  </tbody>\n",
       "</table>\n",
       "</div>"
      ],
      "text/plain": [
       "                                text\n",
       "72484                    너는 영화 예매했어?\n",
       "72485  아직 안했는데 요즘은 자리 많아서 보기 전에 해도 돼\n",
       "72486              그래? 그래서 낼 몇시꺼 보게?\n",
       "72487                  아마 3시꺼 볼려고 왜?\n",
       "72488            아니 그냥 키키 보고서 후기 알려줘"
      ]
     },
     "execution_count": 4,
     "metadata": {},
     "output_type": "execute_result"
    }
   ],
   "source": [
    "df.tail()"
   ]
  },
  {
   "cell_type": "code",
   "execution_count": 5,
   "metadata": {},
   "outputs": [],
   "source": [
    "df.to_csv('./talk_data/영화 주제 대화 말뭉치 묶음(Train).csv', index=None)"
   ]
  }
 ],
 "metadata": {
  "kernelspec": {
   "display_name": "Python 3",
   "language": "python",
   "name": "python3"
  },
  "language_info": {
   "codemirror_mode": {
    "name": "ipython",
    "version": 3
   },
   "file_extension": ".py",
   "mimetype": "text/x-python",
   "name": "python",
   "nbconvert_exporter": "python",
   "pygments_lexer": "ipython3",
   "version": "3.9.13"
  },
  "orig_nbformat": 4
 },
 "nbformat": 4,
 "nbformat_minor": 2
}
