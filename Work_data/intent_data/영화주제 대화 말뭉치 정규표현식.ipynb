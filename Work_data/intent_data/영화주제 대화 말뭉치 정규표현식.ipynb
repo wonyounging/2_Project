{
 "cells": [
  {
   "cell_type": "markdown",
   "metadata": {},
   "source": [
    "### 텍스트 정규표현식 적용"
   ]
  },
  {
   "cell_type": "code",
   "execution_count": 1,
   "metadata": {},
   "outputs": [],
   "source": [
    "import re\n",
    "import pandas as pd"
   ]
  },
  {
   "cell_type": "code",
   "execution_count": 2,
   "metadata": {},
   "outputs": [],
   "source": [
    "def clean_text(text):\n",
    "    clean_text = re.sub(r'[^A-Za-z0-9가-힣 ]', '', text)\n",
    "    # clean_text = re.sub(r'[키키|유유|히히|하하|엉엉|오오]', '', clean_text)\n",
    "    return clean_text.strip()"
   ]
  },
  {
   "cell_type": "markdown",
   "metadata": {},
   "source": [
    "### train 정규화"
   ]
  },
  {
   "cell_type": "code",
   "execution_count": 3,
   "metadata": {},
   "outputs": [
    {
     "data": {
      "text/html": [
       "<div>\n",
       "<style scoped>\n",
       "    .dataframe tbody tr th:only-of-type {\n",
       "        vertical-align: middle;\n",
       "    }\n",
       "\n",
       "    .dataframe tbody tr th {\n",
       "        vertical-align: top;\n",
       "    }\n",
       "\n",
       "    .dataframe thead th {\n",
       "        text-align: right;\n",
       "    }\n",
       "</style>\n",
       "<table border=\"1\" class=\"dataframe\">\n",
       "  <thead>\n",
       "    <tr style=\"text-align: right;\">\n",
       "      <th></th>\n",
       "      <th>text</th>\n",
       "    </tr>\n",
       "  </thead>\n",
       "  <tbody>\n",
       "    <tr>\n",
       "      <th>0</th>\n",
       "      <td>다들 기생충 보셨어요?</td>\n",
       "    </tr>\n",
       "    <tr>\n",
       "      <th>1</th>\n",
       "      <td>오스카 상 후보에 올랐단 소식 듣고 바로 봤어요</td>\n",
       "    </tr>\n",
       "    <tr>\n",
       "      <th>2</th>\n",
       "      <td>저는 개인적으로 다크한 걸 안 좋아해서 아직 못 봤어요</td>\n",
       "    </tr>\n",
       "    <tr>\n",
       "      <th>3</th>\n",
       "      <td>음...그럴 수 있죠!</td>\n",
       "    </tr>\n",
       "    <tr>\n",
       "      <th>4</th>\n",
       "      <td>봉준호 감독이 차기작을 준비하고 있다고 해서 한 번 그냥 물어봤어요 하하</td>\n",
       "    </tr>\n",
       "    <tr>\n",
       "      <th>...</th>\n",
       "      <td>...</td>\n",
       "    </tr>\n",
       "    <tr>\n",
       "      <th>72484</th>\n",
       "      <td>너는 영화 예매했어?</td>\n",
       "    </tr>\n",
       "    <tr>\n",
       "      <th>72485</th>\n",
       "      <td>아직 안했는데 요즘은 자리 많아서 보기 전에 해도 돼</td>\n",
       "    </tr>\n",
       "    <tr>\n",
       "      <th>72486</th>\n",
       "      <td>그래? 그래서 낼 몇시꺼 보게?</td>\n",
       "    </tr>\n",
       "    <tr>\n",
       "      <th>72487</th>\n",
       "      <td>아마 3시꺼 볼려고 왜?</td>\n",
       "    </tr>\n",
       "    <tr>\n",
       "      <th>72488</th>\n",
       "      <td>아니 그냥 키키 보고서 후기 알려줘</td>\n",
       "    </tr>\n",
       "  </tbody>\n",
       "</table>\n",
       "<p>72489 rows × 1 columns</p>\n",
       "</div>"
      ],
      "text/plain": [
       "                                           text\n",
       "0                                  다들 기생충 보셨어요?\n",
       "1                    오스카 상 후보에 올랐단 소식 듣고 바로 봤어요\n",
       "2                저는 개인적으로 다크한 걸 안 좋아해서 아직 못 봤어요\n",
       "3                                  음...그럴 수 있죠!\n",
       "4      봉준호 감독이 차기작을 준비하고 있다고 해서 한 번 그냥 물어봤어요 하하\n",
       "...                                         ...\n",
       "72484                               너는 영화 예매했어?\n",
       "72485             아직 안했는데 요즘은 자리 많아서 보기 전에 해도 돼\n",
       "72486                         그래? 그래서 낼 몇시꺼 보게?\n",
       "72487                             아마 3시꺼 볼려고 왜?\n",
       "72488                       아니 그냥 키키 보고서 후기 알려줘\n",
       "\n",
       "[72489 rows x 1 columns]"
      ]
     },
     "execution_count": 3,
     "metadata": {},
     "output_type": "execute_result"
    }
   ],
   "source": [
    "df_Train = pd.read_csv('c:/2nd_project/Data/talk_data/영화 주제 대화 말뭉치 묶음(Train).csv')\n",
    "df_Train"
   ]
  },
  {
   "cell_type": "code",
   "execution_count": 4,
   "metadata": {},
   "outputs": [
    {
     "data": {
      "text/plain": [
       "0                                     다들 기생충 보셨어요\n",
       "1                      오스카 상 후보에 올랐단 소식 듣고 바로 봤어요\n",
       "2                  저는 개인적으로 다크한 걸 안 좋아해서 아직 못 봤어요\n",
       "3                                        음그럴 수 있죠\n",
       "4        봉준호 감독이 차기작을 준비하고 있다고 해서 한 번 그냥 물어봤어요 하하\n",
       "                           ...                   \n",
       "72484                                  너는 영화 예매했어\n",
       "72485               아직 안했는데 요즘은 자리 많아서 보기 전에 해도 돼\n",
       "72486                             그래 그래서 낼 몇시꺼 보게\n",
       "72487                                아마 3시꺼 볼려고 왜\n",
       "72488                         아니 그냥 키키 보고서 후기 알려줘\n",
       "Name: text, Length: 72489, dtype: object"
      ]
     },
     "execution_count": 4,
     "metadata": {},
     "output_type": "execute_result"
    }
   ],
   "source": [
    "df_Train = df_Train['text'].apply(str).apply(clean_text)\n",
    "df_Train"
   ]
  },
  {
   "cell_type": "code",
   "execution_count": 5,
   "metadata": {},
   "outputs": [],
   "source": [
    "df_Train.to_csv('c:/2nd_project/Data/talk_data/영화 주제 대화 말뭉치 묶음(Train_Re).csv', index=None)"
   ]
  },
  {
   "cell_type": "markdown",
   "metadata": {},
   "source": [
    "### valid 정규화"
   ]
  },
  {
   "cell_type": "code",
   "execution_count": 6,
   "metadata": {},
   "outputs": [
    {
     "data": {
      "text/html": [
       "<div>\n",
       "<style scoped>\n",
       "    .dataframe tbody tr th:only-of-type {\n",
       "        vertical-align: middle;\n",
       "    }\n",
       "\n",
       "    .dataframe tbody tr th {\n",
       "        vertical-align: top;\n",
       "    }\n",
       "\n",
       "    .dataframe thead th {\n",
       "        text-align: right;\n",
       "    }\n",
       "</style>\n",
       "<table border=\"1\" class=\"dataframe\">\n",
       "  <thead>\n",
       "    <tr style=\"text-align: right;\">\n",
       "      <th></th>\n",
       "      <th>text</th>\n",
       "    </tr>\n",
       "  </thead>\n",
       "  <tbody>\n",
       "    <tr>\n",
       "      <th>0</th>\n",
       "      <td>요즘 볼만한 애니가 없어</td>\n",
       "    </tr>\n",
       "    <tr>\n",
       "      <th>1</th>\n",
       "      <td>다 큰 어른이 무슨 애니를 보니</td>\n",
       "    </tr>\n",
       "    <tr>\n",
       "      <th>2</th>\n",
       "      <td>그런가 애니 말고 이제 영화나 볼까?</td>\n",
       "    </tr>\n",
       "    <tr>\n",
       "      <th>3</th>\n",
       "      <td>그래 애니 말고 영화나 봐ㅎ</td>\n",
       "    </tr>\n",
       "    <tr>\n",
       "      <th>4</th>\n",
       "      <td>알겠어 영화관 가서 영화 봐야겠다</td>\n",
       "    </tr>\n",
       "    <tr>\n",
       "      <th>...</th>\n",
       "      <td>...</td>\n",
       "    </tr>\n",
       "    <tr>\n",
       "      <th>10635</th>\n",
       "      <td>응 맞아 그런 건 좋아해!</td>\n",
       "    </tr>\n",
       "    <tr>\n",
       "      <th>10636</th>\n",
       "      <td>미스터리한 것도 좋아하긴 해 너무 놀래키거나 무섭지 않으면!</td>\n",
       "    </tr>\n",
       "    <tr>\n",
       "      <th>10637</th>\n",
       "      <td>넌 미스터리물 좋아해?</td>\n",
       "    </tr>\n",
       "    <tr>\n",
       "      <th>10638</th>\n",
       "      <td>응응 나도 완전 좋아해</td>\n",
       "    </tr>\n",
       "    <tr>\n",
       "      <th>10639</th>\n",
       "      <td>나중에 좋은 영화 추천해 줘!</td>\n",
       "    </tr>\n",
       "  </tbody>\n",
       "</table>\n",
       "<p>10640 rows × 1 columns</p>\n",
       "</div>"
      ],
      "text/plain": [
       "                                    text\n",
       "0                          요즘 볼만한 애니가 없어\n",
       "1                      다 큰 어른이 무슨 애니를 보니\n",
       "2                   그런가 애니 말고 이제 영화나 볼까?\n",
       "3                        그래 애니 말고 영화나 봐ㅎ\n",
       "4                     알겠어 영화관 가서 영화 봐야겠다\n",
       "...                                  ...\n",
       "10635                     응 맞아 그런 건 좋아해!\n",
       "10636  미스터리한 것도 좋아하긴 해 너무 놀래키거나 무섭지 않으면!\n",
       "10637                       넌 미스터리물 좋아해?\n",
       "10638                       응응 나도 완전 좋아해\n",
       "10639                   나중에 좋은 영화 추천해 줘!\n",
       "\n",
       "[10640 rows x 1 columns]"
      ]
     },
     "execution_count": 6,
     "metadata": {},
     "output_type": "execute_result"
    }
   ],
   "source": [
    "df_Valid = pd.read_csv('c:/2nd_project/Data/talk_data/영화 주제 대화 말뭉치 묶음(Valid).csv')\n",
    "df_Valid"
   ]
  },
  {
   "cell_type": "code",
   "execution_count": 7,
   "metadata": {},
   "outputs": [
    {
     "data": {
      "text/plain": [
       "0                           요즘 볼만한 애니가 없어\n",
       "1                       다 큰 어른이 무슨 애니를 보니\n",
       "2                     그런가 애니 말고 이제 영화나 볼까\n",
       "3                          그래 애니 말고 영화나 봐\n",
       "4                      알겠어 영화관 가서 영화 봐야겠다\n",
       "                       ...               \n",
       "10635                       응 맞아 그런 건 좋아해\n",
       "10636    미스터리한 것도 좋아하긴 해 너무 놀래키거나 무섭지 않으면\n",
       "10637                         넌 미스터리물 좋아해\n",
       "10638                        응응 나도 완전 좋아해\n",
       "10639                     나중에 좋은 영화 추천해 줘\n",
       "Name: text, Length: 10640, dtype: object"
      ]
     },
     "execution_count": 7,
     "metadata": {},
     "output_type": "execute_result"
    }
   ],
   "source": [
    "df_Valid = df_Valid['text'].apply(str).apply(clean_text)\n",
    "df_Valid"
   ]
  },
  {
   "cell_type": "code",
   "execution_count": 8,
   "metadata": {},
   "outputs": [],
   "source": [
    "df_Valid.to_csv('c:/2nd_project/Data/talk_data/영화 주제 대화 말뭉치 묶음(Valid_Re).csv', index=None)"
   ]
  }
 ],
 "metadata": {
  "kernelspec": {
   "display_name": "Python 3",
   "language": "python",
   "name": "python3"
  },
  "language_info": {
   "codemirror_mode": {
    "name": "ipython",
    "version": 3
   },
   "file_extension": ".py",
   "mimetype": "text/x-python",
   "name": "python",
   "nbconvert_exporter": "python",
   "pygments_lexer": "ipython3",
   "version": "3.9.13"
  },
  "orig_nbformat": 4
 },
 "nbformat": 4,
 "nbformat_minor": 2
}
