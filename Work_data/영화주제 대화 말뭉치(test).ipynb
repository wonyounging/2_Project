{
 "cells": [
  {
   "cell_type": "code",
   "execution_count": 1,
   "metadata": {},
   "outputs": [],
   "source": [
    "import pandas as pd\n",
    "import json\n",
    "import re"
   ]
  },
  {
   "cell_type": "markdown",
   "metadata": {},
   "source": [
    "### json 파일 불러오기"
   ]
  },
  {
   "cell_type": "code",
   "execution_count": 2,
   "metadata": {},
   "outputs": [
    {
     "name": "stdout",
     "output_type": "stream",
     "text": [
      "<class 'dict'>\n"
     ]
    },
    {
     "data": {
      "text/plain": [
       "{'dataset': {'identifier': 72935,\n",
       "  'name': 'KAKAO_898_20_set',\n",
       "  'src_path': '/data/file/cubeManager/PROJECT001/53/txt202110051527500758107/KAKAO_898_20_set/',\n",
       "  'label_path': '/data/file/cubeManager/PROJECT001/53/txt202110051527500758107/KAKAO_898_20_set/',\n",
       "  'category': 2,\n",
       "  'type': 0},\n",
       " 'licenses': {'name': 'Apache License 1.0',\n",
       "  'url': 'http://www.apache.org/licenses/LICENSE-1.0'},\n",
       " 'info': [{'id': 41277,\n",
       "   'filename': 'KAKAO_898_20.txt',\n",
       "   'title': 'KAKAO_898_20',\n",
       "   'mediatype': 'SNS',\n",
       "   'medianame': '카카오톡',\n",
       "   'category': '일상대화',\n",
       "   'date': '2021-10-05',\n",
       "   'size': 808,\n",
       "   'annotations': {'subject': '영화/만화',\n",
       "    'speaker_type': '다자간 대화',\n",
       "    'size': 808,\n",
       "    'word_size': 200,\n",
       "    'text': '1 : 다들 기생충 보셨어요?\\n2 : 오스카\\xa0상\\xa0후보에\\xa0올랐단\\xa0소식\\xa0듣고\\xa0바로\\xa0봤어요\\n3 : 저는 개인적으로 다크한 걸 안 좋아해서 아직 못 봤어요\\n1 : 음...그럴 수 있죠!\\n1 : 봉준호 감독이 차기작을 준비하고 있다고 해서 한 번 그냥 물어봤어요 하하\\n2 : 오오\\xa0차기작이요?\\xa0기대되는 걸요?\\n3 : 정말요? 어떤 내용이래요?\\n1 : 사실 기생충 이전부터 준비하던 시나리오인데 애니메이션으로 제작될 예정이래요\\n2 : 헉\\xa0정말\\xa0애니메이션이래요?\\n3 : 와우... 애니메이션이라니... 조금 놀랍네요\\n1 : 그쵸? 자신이 디스크가 있는 줄 아는 무척추 심해어와 해양생물 관련한 시나리오를 이미 완성했다고 하더라고요\\n2 : 기생충\\xa0이후로\\xa02년만인가요...\\n3 : 애니메이션이면 개봉하면 저도 꼭 봐야겠어요!\\n1 : 이게 또 순수 한국 프로젝트로 제작되는 거라고 하더라고요\\n2 : 오오\\xa0국뽕이\\xa0차오르는걸요?!\\n3 : 그러게요! 이제 그 감독님 작품은 세계 곧곧에서 조명을 받을텐데 순수 한국 프로젝트라니...\\n1 : 지난해부터 친분이 있는 한 배우한테 연기를 부탁했다고 하는데 누굴지 정말 너무 궁금해요\\n2 : 그러게요!\\xa0근데\\xa0애니메이션인데\\xa0배우가\\xa0필요하다니...\\n2 : 성우를 부탁한 걸까요?\\n3 : 아니면 실사와 애니메이션을 섞은 걸 수도 있겠네요!\\n1 : 사실 뭐가 되었든 파격적인 결정이라고 생각해요\\n2 : 저도\\xa0그렇게\\xa0생각해요\\n3 : 다방면으로 도전하는 모습이 참 멋지신 것 같아요\\n1 : 개봉하려면 최소 3~4년 정도는 걸릴테지만 개봉하면 같이 보러 가실래요?\\n2 : 너무 너무\\xa0좋아요!\\n2 : 그때 쯤이면 극장도 편하게 갈 수 있겠죠?\\n3 : 하하 네 좋아요! 벌써 기대되네요!',\n",
       "    'lines': [{'id': 1,\n",
       "      'text': '1 : 다들 기생충 보셨어요?',\n",
       "      'norm_text': '다들 기생충 보셨어요?',\n",
       "      'speaker': {'id': '1번', 'sex': '여성', 'age': '30대'},\n",
       "      'speechAct': '(지시) 질문하기',\n",
       "      'morpheme': '다/MAG+들/XSN+기생충/NNG+보/VV+셨/EP+EP+어요/EF'},\n",
       "     {'id': 2,\n",
       "      'text': '2 : 오스카\\xa0상\\xa0후보에\\xa0올랐단\\xa0소식\\xa0듣고\\xa0바로\\xa0봤어요',\n",
       "      'norm_text': '오스카\\xa0상\\xa0후보에\\xa0올랐단\\xa0소식\\xa0듣고\\xa0바로\\xa0봤어요',\n",
       "      'speaker': {'id': '2번', 'sex': '여성', 'age': '40대'},\n",
       "      'speechAct': '(단언) 진술하기',\n",
       "      'morpheme': '오스카/NNG+\\xa0/SY+상/NNG+\\xa0/SY+후보/NNG+에/JKB+\\xa0/SY+올랐/VV+EP+단/ETM+\\xa0/SY+소식/NNG+\\xa0/SY+듣/VV+고/EC+\\xa0/SY+바로/MAG+\\xa0/SY+봤/VV+EP+어요/EF'},\n",
       "     {'id': 3,\n",
       "      'text': '3 : 저는 개인적으로 다크한 걸 안 좋아해서 아직 못 봤어요',\n",
       "      'norm_text': '저는 개인적으로 다크한 걸 안 좋아해서 아직 못 봤어요',\n",
       "      'speaker': {'id': '3번', 'sex': '여성', 'age': '10대'},\n",
       "      'speechAct': '(단언) 진술하기',\n",
       "      'morpheme': '저/NP+는/JX+개인/NNG+적/XSN+으로/JKB+다크/NNG+한/XSA+ETM+걸/NNB+JKO+안/MAG+좋/VA+아/EC+해서/VV+EC+아직/MAG+못/MAG+봤/VV+EP+어요/EF'},\n",
       "     {'id': 4,\n",
       "      'text': '1 : 음...그럴 수 있죠!',\n",
       "      'norm_text': '음...그럴 수 있죠!',\n",
       "      'speaker': {'id': '1번', 'sex': '여성', 'age': '30대'},\n",
       "      'speechAct': '(단언) 주장하기',\n",
       "      'morpheme': '음/IC+./SY+그럴/VV+ETM+수/NNB+있/VV+죠/EF'},\n",
       "     {'id': 5,\n",
       "      'text': '1 : 봉준호 감독이 차기작을 준비하고 있다고 해서 한 번 그냥 물어봤어요 하하',\n",
       "      'norm_text': '봉준호 감독이 차기작을 준비하고 있다고 해서 한 번 그냥 물어봤어요 하하',\n",
       "      'speaker': {'id': '1번', 'sex': '여성', 'age': '30대'},\n",
       "      'speechAct': '(단언) 주장하기',\n",
       "      'morpheme': '봉준호/NNP+감독/NNG+이/JKS+차/VV+기/ETN+작/VA+을/ETM+준비/NNG+하/XSV+고/EC+있/VX+다고/EC+해서/VV+EC+한/MM+번/NNBC+그냥/MAG+물/VV+어/EC+봤/VX+EP+어요/EF+하하/MAG'},\n",
       "     {'id': 6,\n",
       "      'text': '2 : 오오\\xa0차기작이요?\\xa0기대되는 걸요?',\n",
       "      'norm_text': '오오\\xa0차기작이요?\\xa0기대되는 걸요?',\n",
       "      'speaker': {'id': '2번', 'sex': '여성', 'age': '40대'},\n",
       "      'speechAct': '(단언) 주장하기',\n",
       "      'morpheme': '오오/NNG+\\xa0/SY+차기/NNG+작이/MAG+요/JX+\\xa0/SY+기대/NNG+되/XSV+는/ETM+걸요/NNB+EF'},\n",
       "     {'id': 7,\n",
       "      'text': '3 : 정말요? 어떤 내용이래요?',\n",
       "      'norm_text': '정말요? 어떤 내용이래요?',\n",
       "      'speaker': {'id': '3번', 'sex': '여성', 'age': '10대'},\n",
       "      'speechAct': '(지시) 질문하기',\n",
       "      'morpheme': '정말/MAG+요/JX+어떤/MM+내용/NNG+이/VCP+래요/EF'},\n",
       "     {'id': 8,\n",
       "      'text': '1 : 사실 기생충 이전부터 준비하던 시나리오인데 애니메이션으로 제작될 예정이래요',\n",
       "      'norm_text': '사실 기생충 이전부터 준비하던 시나리오인데 애니메이션으로 제작될 예정이래요',\n",
       "      'speaker': {'id': '1번', 'sex': '여성', 'age': '30대'},\n",
       "      'speechAct': '(단언) 진술하기',\n",
       "      'morpheme': '사실/MAG+기생충/NNG+이전/NNG+부터/JX+준비/NNG+하/XSV+던/ETM+시나리오/NNG+인데/VCP+EC+애니메이션/NNG+으로/JKB+제작/NNG+될/XSV+ETM+예정/NNG+이/VCP+래요/EC'},\n",
       "     {'id': 9,\n",
       "      'text': '2 : 헉\\xa0정말\\xa0애니메이션이래요?',\n",
       "      'norm_text': '헉\\xa0정말\\xa0애니메이션이래요?',\n",
       "      'speaker': {'id': '2번', 'sex': '여성', 'age': '40대'},\n",
       "      'speechAct': '(지시) 질문하기',\n",
       "      'morpheme': '헉/MAG+\\xa0/SY+정말/MAG+\\xa0/SY+애니메이션/NNG+이/VCP+래요/EF'},\n",
       "     {'id': 10,\n",
       "      'text': '3 : 와우... 애니메이션이라니... 조금 놀랍네요',\n",
       "      'norm_text': '와우... 애니메이션이라니... 조금 놀랍네요',\n",
       "      'speaker': {'id': '3번', 'sex': '여성', 'age': '10대'},\n",
       "      'speechAct': '(단언) 주장하기',\n",
       "      'morpheme': '와우/IC+./SY+애니메이션/NNG+이/VCP+라니/EF+./SY+조금/MAG+놀랍/VA+네요/EC'},\n",
       "     {'id': 11,\n",
       "      'text': '1 : 그쵸? 자신이 디스크가 있는 줄 아는 무척추 심해어와 해양생물 관련한 시나리오를 이미 완성했다고 하더라고요',\n",
       "      'norm_text': '그쵸? 자신이 디스크가 있는 줄 아는 무척추 심해어와 해양생물 관련한 시나리오를 이미 완성했다고 하더라고요',\n",
       "      'speaker': {'id': '1번', 'sex': '여성', 'age': '30대'},\n",
       "      'speechAct': '(단언) 진술하기',\n",
       "      'morpheme': '그쵸/IC+자신이디스크가있는줄아는무척추심해어와해양생물관련한시나리오를이미완성했다고하더라고요/UNKNOWN'},\n",
       "     {'id': 12,\n",
       "      'text': '2 : 기생충\\xa0이후로\\xa02년만인가요...',\n",
       "      'norm_text': '기생충\\xa0이후로\\xa02년만인가요...',\n",
       "      'speaker': {'id': '2번', 'sex': '여성', 'age': '40대'},\n",
       "      'speechAct': '(단언) 진술하기',\n",
       "      'morpheme': '기생충/NNG+\\xa0/SY+이후/NNG+로/JKB+\\xa0/SY+2/SN+년/NNBC+만/NNB+인가요/VCP+EF+./SY'},\n",
       "     {'id': 13,\n",
       "      'text': '3 : 애니메이션이면 개봉하면 저도 꼭 봐야겠어요!',\n",
       "      'norm_text': '애니메이션이면 개봉하면 저도 꼭 봐야겠어요!',\n",
       "      'speaker': {'id': '3번', 'sex': '여성', 'age': '10대'},\n",
       "      'speechAct': '(언약) 약속하기(제3자와)/(개인적 수준)',\n",
       "      'morpheme': '애니메이션/NNG+이/VCP+면/EC+개봉/NNG+하/XSV+면/EC+저/NP+도/JX+꼭/MAG+봐야/VV+EC+VX+겠/EP+어요/EF'},\n",
       "     {'id': 14,\n",
       "      'text': '1 : 이게 또 순수 한국 프로젝트로 제작되는 거라고 하더라고요',\n",
       "      'norm_text': '이게 또 순수 한국 프로젝트로 제작되는 거라고 하더라고요',\n",
       "      'speaker': {'id': '1번', 'sex': '여성', 'age': '30대'},\n",
       "      'speechAct': '(단언) 진술하기',\n",
       "      'morpheme': '이게/NP+JKS+또/MAG+순수/NNG+한국/NNP+프로젝트/NNG+로/JKB+제작/NNG+되/XSV+는/ETM+거/NNB+라고/VCP+EC+하/VV+더라고요/EC'},\n",
       "     {'id': 15,\n",
       "      'text': '2 : 오오\\xa0국뽕이\\xa0차오르는걸요?!',\n",
       "      'norm_text': '오오\\xa0국뽕이\\xa0차오르는걸요?!',\n",
       "      'speaker': {'id': '2번', 'sex': '여성', 'age': '40대'},\n",
       "      'speechAct': '(단언) 주장하기',\n",
       "      'morpheme': '오오/NNG+\\xa0/SY+국/NNG+뽕/NNG+이/JKS+\\xa0/SY+차오르/VV+는/ETM+걸요/NNB+JKO+JX+?/SY'},\n",
       "     {'id': 16,\n",
       "      'text': '3 : 그러게요! 이제 그 감독님 작품은 세계 곧곧에서 조명을 받을텐데 순수 한국 프로젝트라니...',\n",
       "      'norm_text': '그러게요! 이제 그 감독님 작품은 세계 곧곧에서 조명을 받을텐데 순수 한국 프로젝트라니...',\n",
       "      'speaker': {'id': '3번', 'sex': '여성', 'age': '10대'},\n",
       "      'speechAct': '(단언) 주장하기',\n",
       "      'morpheme': '그러게/IC+요/JX+이제/MAG+그/MM+감독/NNG+님/XSN+작품/NNG+은/JX+세계/NNG+곧곧/NNG+에서/JKB+조명/NNG+을/JKO+받/VV+을/ETM+텐데/NNB+VCP+EC+순수/NNG+한국/NNP+프로젝트/NNG+라니/VCP+EF+./SY'},\n",
       "     {'id': 17,\n",
       "      'text': '1 : 지난해부터 친분이 있는 한 배우한테 연기를 부탁했다고 하는데 누굴지 정말 너무 궁금해요',\n",
       "      'norm_text': '지난해부터 친분이 있는 한 배우한테 연기를 부탁했다고 하는데 누굴지 정말 너무 궁금해요',\n",
       "      'speaker': {'id': '1번', 'sex': '여성', 'age': '30대'},\n",
       "      'speechAct': '(단언) 주장하기',\n",
       "      'morpheme': '지난해/NNG+부터/JX+친분/NNG+이/JKS+있/VA+는/ETM+한/MM+배우/NNG+한테/JKB+연기/NNG+를/JKO+부탁/NNG+했/XSV+EP+다고/EC+하/VV+는데/EC+누굴지/NP+VCP+EC+정말/MAG+너무/MAG+궁금/XR+해요/XSA+EC'},\n",
       "     {'id': 18,\n",
       "      'text': '2 : 그러게요!\\xa0근데\\xa0애니메이션인데\\xa0배우가\\xa0필요하다니...',\n",
       "      'norm_text': '그러게요!\\xa0근데\\xa0애니메이션인데\\xa0배우가\\xa0필요하다니...',\n",
       "      'speaker': {'id': '2번', 'sex': '여성', 'age': '40대'},\n",
       "      'speechAct': '(단언) 주장하기',\n",
       "      'morpheme': '그러게/IC+요/JX+\\xa0/SY+근데/MAJ+\\xa0/SY+애니메이션/NNG+인데/VCP+EC+\\xa0/SY+배우/NNG+가/JKS+\\xa0/SY+필요/NNG+하/XSA+다니/EF+./SY'},\n",
       "     {'id': 19,\n",
       "      'text': '2 : 성우를 부탁한 걸까요?',\n",
       "      'norm_text': '성우를 부탁한 걸까요?',\n",
       "      'speaker': {'id': '2번', 'sex': '여성', 'age': '40대'},\n",
       "      'speechAct': '(지시) 질문하기',\n",
       "      'morpheme': '성우/NNG+를/JKO+부탁/NNG+한/XSA+ETM+걸까요/NNB+VCP+EF'},\n",
       "     {'id': 20,\n",
       "      'text': '3 : 아니면 실사와 애니메이션을 섞은 걸 수도 있겠네요!',\n",
       "      'norm_text': '아니면 실사와 애니메이션을 섞은 걸 수도 있겠네요!',\n",
       "      'speaker': {'id': '3번', 'sex': '여성', 'age': '10대'},\n",
       "      'speechAct': '(단언) 주장하기',\n",
       "      'morpheme': '아니면/MAJ+실사/NNG+와/JC+애니메이션/NNG+을/JKO+섞/VV+은/ETM+걸/NNB+JKO+수/NNB+도/JX+있/VA+겠/EP+네요/EF'},\n",
       "     {'id': 21,\n",
       "      'text': '1 : 사실 뭐가 되었든 파격적인 결정이라고 생각해요',\n",
       "      'norm_text': '사실 뭐가 되었든 파격적인 결정이라고 생각해요',\n",
       "      'speaker': {'id': '1번', 'sex': '여성', 'age': '30대'},\n",
       "      'speechAct': '(단언) 주장하기',\n",
       "      'morpheme': '사실/MAG+뭐/NP+가/JKS+되/VV+었/EP+든/ETM+파격/NNG+적/XSN+인/VCP+ETM+결정/NNG+이/VCP+라고/EC+생각/NNG+해요/XSV+EC'},\n",
       "     {'id': 22,\n",
       "      'text': '2 : 저도\\xa0그렇게\\xa0생각해요',\n",
       "      'norm_text': '저도\\xa0그렇게\\xa0생각해요',\n",
       "      'speaker': {'id': '2번', 'sex': '여성', 'age': '40대'},\n",
       "      'speechAct': '(단언) 주장하기',\n",
       "      'morpheme': '저/NP+도/JX+\\xa0/SY+그렇/VA+게/EC+\\xa0/SY+생각/NNG+해요/XSV+EC'},\n",
       "     {'id': 23,\n",
       "      'text': '3 : 다방면으로 도전하는 모습이 참 멋지신 것 같아요',\n",
       "      'norm_text': '다방면으로 도전하는 모습이 참 멋지신 것 같아요',\n",
       "      'speaker': {'id': '3번', 'sex': '여성', 'age': '10대'},\n",
       "      'speechAct': '(단언) 주장하기',\n",
       "      'morpheme': '다방면/NNG+으로/JKB+도전/NNG+하/XSV+는/ETM+모습/NNG+이/JKS+참/MAG+멋지/VA+신/EP+ETM+것/NNB+같/VA+아요/EC'},\n",
       "     {'id': 24,\n",
       "      'text': '1 : 개봉하려면 최소 3~4년 정도는 걸릴테지만 개봉하면 같이 보러 가실래요?',\n",
       "      'norm_text': '개봉하려면 최소 3~4년 정도는 걸릴테지만 개봉하면 같이 보러 가실래요?',\n",
       "      'speaker': {'id': '1번', 'sex': '여성', 'age': '30대'},\n",
       "      'speechAct': '(언약) 약속하기(제3자와)/(개인적 수준)',\n",
       "      'morpheme': '개봉/NNG+하/XSV+려면/EC+최소/NNG+3/SN+~/SY+4/SN+년/NNBC+정도/NNG+는/JX+걸릴/VV+ETM+테/NNB+VCP+지만/EC+개봉/NNG+하/XSV+면/EC+같이/MAG+보/VV+러/EC+가/VX+실래요/EP+EF'},\n",
       "     {'id': 25,\n",
       "      'text': '2 : 너무 너무\\xa0좋아요!',\n",
       "      'norm_text': '너무 너무\\xa0좋아요!',\n",
       "      'speaker': {'id': '2번', 'sex': '여성', 'age': '40대'},\n",
       "      'speechAct': '(단언) 주장하기',\n",
       "      'morpheme': '너무너무/MAG+\\xa0/SY+좋/VA+아요/EF'},\n",
       "     {'id': 26,\n",
       "      'text': '2 : 그때 쯤이면 극장도 편하게 갈 수 있겠죠?',\n",
       "      'norm_text': '그때 쯤이면 극장도 편하게 갈 수 있겠죠?',\n",
       "      'speaker': {'id': '2번', 'sex': '여성', 'age': '40대'},\n",
       "      'speechAct': '(단언) 주장하기',\n",
       "      'morpheme': '그때/NNG+쯤/XSN+이/VCP+면/EC+극장/NNG+도/JX+편하/VA+게/EC+갈/VX+ETM+수/NNB+있/VV+겠/EP+죠/EF'},\n",
       "     {'id': 27,\n",
       "      'text': '3 : 하하 네 좋아요! 벌써 기대되네요!',\n",
       "      'norm_text': '하하 네 좋아요! 벌써 기대되네요!',\n",
       "      'speaker': {'id': '3번', 'sex': '여성', 'age': '10대'},\n",
       "      'speechAct': '(단언) 주장하기',\n",
       "      'morpheme': '하하/MAG+네/IC+좋/VA+아요/EF+벌써/MAG+기대/NNG+되/XSV+네요/EF'}]}}]}"
      ]
     },
     "execution_count": 2,
     "metadata": {},
     "output_type": "execute_result"
    }
   ],
   "source": [
    "with open('c:/2nd_project/talk_data/KAKAO_898_20.json', 'r', encoding='utf-8') as f:\n",
    "    data = json.load(f)\n",
    "print(type(data))\n",
    "data"
   ]
  },
  {
   "cell_type": "markdown",
   "metadata": {},
   "source": [
    "### json 파일에서 대화 주제 추출(영화/만화)"
   ]
  },
  {
   "cell_type": "code",
   "execution_count": 3,
   "metadata": {},
   "outputs": [
    {
     "name": "stdout",
     "output_type": "stream",
     "text": [
      "영화/만화\n"
     ]
    }
   ],
   "source": [
    "category = print(data['info'][0]['annotations']['subject'])\n",
    "category"
   ]
  },
  {
   "cell_type": "markdown",
   "metadata": {},
   "source": [
    "### 대화내용 추출"
   ]
  },
  {
   "cell_type": "code",
   "execution_count": 4,
   "metadata": {},
   "outputs": [
    {
     "data": {
      "text/plain": [
       "'1 : 다들 기생충 보셨어요?\\n2 : 오스카\\xa0상\\xa0후보에\\xa0올랐단\\xa0소식\\xa0듣고\\xa0바로\\xa0봤어요\\n3 : 저는 개인적으로 다크한 걸 안 좋아해서 아직 못 봤어요\\n1 : 음...그럴 수 있죠!\\n1 : 봉준호 감독이 차기작을 준비하고 있다고 해서 한 번 그냥 물어봤어요 하하\\n2 : 오오\\xa0차기작이요?\\xa0기대되는 걸요?\\n3 : 정말요? 어떤 내용이래요?\\n1 : 사실 기생충 이전부터 준비하던 시나리오인데 애니메이션으로 제작될 예정이래요\\n2 : 헉\\xa0정말\\xa0애니메이션이래요?\\n3 : 와우... 애니메이션이라니... 조금 놀랍네요\\n1 : 그쵸? 자신이 디스크가 있는 줄 아는 무척추 심해어와 해양생물 관련한 시나리오를 이미 완성했다고 하더라고요\\n2 : 기생충\\xa0이후로\\xa02년만인가요...\\n3 : 애니메이션이면 개봉하면 저도 꼭 봐야겠어요!\\n1 : 이게 또 순수 한국 프로젝트로 제작되는 거라고 하더라고요\\n2 : 오오\\xa0국뽕이\\xa0차오르는걸요?!\\n3 : 그러게요! 이제 그 감독님 작품은 세계 곧곧에서 조명을 받을텐데 순수 한국 프로젝트라니...\\n1 : 지난해부터 친분이 있는 한 배우한테 연기를 부탁했다고 하는데 누굴지 정말 너무 궁금해요\\n2 : 그러게요!\\xa0근데\\xa0애니메이션인데\\xa0배우가\\xa0필요하다니...\\n2 : 성우를 부탁한 걸까요?\\n3 : 아니면 실사와 애니메이션을 섞은 걸 수도 있겠네요!\\n1 : 사실 뭐가 되었든 파격적인 결정이라고 생각해요\\n2 : 저도\\xa0그렇게\\xa0생각해요\\n3 : 다방면으로 도전하는 모습이 참 멋지신 것 같아요\\n1 : 개봉하려면 최소 3~4년 정도는 걸릴테지만 개봉하면 같이 보러 가실래요?\\n2 : 너무 너무\\xa0좋아요!\\n2 : 그때 쯤이면 극장도 편하게 갈 수 있겠죠?\\n3 : 하하 네 좋아요! 벌써 기대되네요!'"
      ]
     },
     "execution_count": 4,
     "metadata": {},
     "output_type": "execute_result"
    }
   ],
   "source": [
    "texts = data['info'][0]['annotations']['text']\n",
    "texts"
   ]
  },
  {
   "cell_type": "code",
   "execution_count": 5,
   "metadata": {},
   "outputs": [
    {
     "data": {
      "text/plain": [
       "834"
      ]
     },
     "execution_count": 5,
     "metadata": {},
     "output_type": "execute_result"
    }
   ],
   "source": [
    "len(texts)"
   ]
  },
  {
   "cell_type": "markdown",
   "metadata": {},
   "source": [
    "### ';' => ':'으로 치환(중간에 껴있음)"
   ]
  },
  {
   "cell_type": "code",
   "execution_count": 6,
   "metadata": {},
   "outputs": [
    {
     "data": {
      "text/plain": [
       "'1 : 다들 기생충 보셨어요?\\n2 : 오스카\\xa0상\\xa0후보에\\xa0올랐단\\xa0소식\\xa0듣고\\xa0바로\\xa0봤어요\\n3 : 저는 개인적으로 다크한 걸 안 좋아해서 아직 못 봤어요\\n1 : 음...그럴 수 있죠!\\n1 : 봉준호 감독이 차기작을 준비하고 있다고 해서 한 번 그냥 물어봤어요 하하\\n2 : 오오\\xa0차기작이요?\\xa0기대되는 걸요?\\n3 : 정말요? 어떤 내용이래요?\\n1 : 사실 기생충 이전부터 준비하던 시나리오인데 애니메이션으로 제작될 예정이래요\\n2 : 헉\\xa0정말\\xa0애니메이션이래요?\\n3 : 와우... 애니메이션이라니... 조금 놀랍네요\\n1 : 그쵸? 자신이 디스크가 있는 줄 아는 무척추 심해어와 해양생물 관련한 시나리오를 이미 완성했다고 하더라고요\\n2 : 기생충\\xa0이후로\\xa02년만인가요...\\n3 : 애니메이션이면 개봉하면 저도 꼭 봐야겠어요!\\n1 : 이게 또 순수 한국 프로젝트로 제작되는 거라고 하더라고요\\n2 : 오오\\xa0국뽕이\\xa0차오르는걸요?!\\n3 : 그러게요! 이제 그 감독님 작품은 세계 곧곧에서 조명을 받을텐데 순수 한국 프로젝트라니...\\n1 : 지난해부터 친분이 있는 한 배우한테 연기를 부탁했다고 하는데 누굴지 정말 너무 궁금해요\\n2 : 그러게요!\\xa0근데\\xa0애니메이션인데\\xa0배우가\\xa0필요하다니...\\n2 : 성우를 부탁한 걸까요?\\n3 : 아니면 실사와 애니메이션을 섞은 걸 수도 있겠네요!\\n1 : 사실 뭐가 되었든 파격적인 결정이라고 생각해요\\n2 : 저도\\xa0그렇게\\xa0생각해요\\n3 : 다방면으로 도전하는 모습이 참 멋지신 것 같아요\\n1 : 개봉하려면 최소 3~4년 정도는 걸릴테지만 개봉하면 같이 보러 가실래요?\\n2 : 너무 너무\\xa0좋아요!\\n2 : 그때 쯤이면 극장도 편하게 갈 수 있겠죠?\\n3 : 하하 네 좋아요! 벌써 기대되네요!'"
      ]
     },
     "execution_count": 6,
     "metadata": {},
     "output_type": "execute_result"
    }
   ],
   "source": [
    "texts = texts.replace(';', ':')\n",
    "texts"
   ]
  },
  {
   "cell_type": "markdown",
   "metadata": {},
   "source": [
    "### '\\xa0' => ' '공백으로 치환"
   ]
  },
  {
   "cell_type": "code",
   "execution_count": 7,
   "metadata": {},
   "outputs": [
    {
     "data": {
      "text/plain": [
       "'1 : 다들 기생충 보셨어요?\\n2 : 오스카 상 후보에 올랐단 소식 듣고 바로 봤어요\\n3 : 저는 개인적으로 다크한 걸 안 좋아해서 아직 못 봤어요\\n1 : 음...그럴 수 있죠!\\n1 : 봉준호 감독이 차기작을 준비하고 있다고 해서 한 번 그냥 물어봤어요 하하\\n2 : 오오 차기작이요? 기대되는 걸요?\\n3 : 정말요? 어떤 내용이래요?\\n1 : 사실 기생충 이전부터 준비하던 시나리오인데 애니메이션으로 제작될 예정이래요\\n2 : 헉 정말 애니메이션이래요?\\n3 : 와우... 애니메이션이라니... 조금 놀랍네요\\n1 : 그쵸? 자신이 디스크가 있는 줄 아는 무척추 심해어와 해양생물 관련한 시나리오를 이미 완성했다고 하더라고요\\n2 : 기생충 이후로 2년만인가요...\\n3 : 애니메이션이면 개봉하면 저도 꼭 봐야겠어요!\\n1 : 이게 또 순수 한국 프로젝트로 제작되는 거라고 하더라고요\\n2 : 오오 국뽕이 차오르는걸요?!\\n3 : 그러게요! 이제 그 감독님 작품은 세계 곧곧에서 조명을 받을텐데 순수 한국 프로젝트라니...\\n1 : 지난해부터 친분이 있는 한 배우한테 연기를 부탁했다고 하는데 누굴지 정말 너무 궁금해요\\n2 : 그러게요! 근데 애니메이션인데 배우가 필요하다니...\\n2 : 성우를 부탁한 걸까요?\\n3 : 아니면 실사와 애니메이션을 섞은 걸 수도 있겠네요!\\n1 : 사실 뭐가 되었든 파격적인 결정이라고 생각해요\\n2 : 저도 그렇게 생각해요\\n3 : 다방면으로 도전하는 모습이 참 멋지신 것 같아요\\n1 : 개봉하려면 최소 3~4년 정도는 걸릴테지만 개봉하면 같이 보러 가실래요?\\n2 : 너무 너무 좋아요!\\n2 : 그때 쯤이면 극장도 편하게 갈 수 있겠죠?\\n3 : 하하 네 좋아요! 벌써 기대되네요!'"
      ]
     },
     "execution_count": 7,
     "metadata": {},
     "output_type": "execute_result"
    }
   ],
   "source": [
    "texts = texts.replace('\\xa0', ' ')\n",
    "texts"
   ]
  },
  {
   "cell_type": "markdown",
   "metadata": {},
   "source": [
    "### '\\n' 문장 분리"
   ]
  },
  {
   "cell_type": "code",
   "execution_count": 8,
   "metadata": {},
   "outputs": [
    {
     "data": {
      "text/plain": [
       "['1 : 다들 기생충 보셨어요?',\n",
       " '2 : 오스카 상 후보에 올랐단 소식 듣고 바로 봤어요',\n",
       " '3 : 저는 개인적으로 다크한 걸 안 좋아해서 아직 못 봤어요',\n",
       " '1 : 음...그럴 수 있죠!',\n",
       " '1 : 봉준호 감독이 차기작을 준비하고 있다고 해서 한 번 그냥 물어봤어요 하하',\n",
       " '2 : 오오 차기작이요? 기대되는 걸요?',\n",
       " '3 : 정말요? 어떤 내용이래요?',\n",
       " '1 : 사실 기생충 이전부터 준비하던 시나리오인데 애니메이션으로 제작될 예정이래요',\n",
       " '2 : 헉 정말 애니메이션이래요?',\n",
       " '3 : 와우... 애니메이션이라니... 조금 놀랍네요',\n",
       " '1 : 그쵸? 자신이 디스크가 있는 줄 아는 무척추 심해어와 해양생물 관련한 시나리오를 이미 완성했다고 하더라고요',\n",
       " '2 : 기생충 이후로 2년만인가요...',\n",
       " '3 : 애니메이션이면 개봉하면 저도 꼭 봐야겠어요!',\n",
       " '1 : 이게 또 순수 한국 프로젝트로 제작되는 거라고 하더라고요',\n",
       " '2 : 오오 국뽕이 차오르는걸요?!',\n",
       " '3 : 그러게요! 이제 그 감독님 작품은 세계 곧곧에서 조명을 받을텐데 순수 한국 프로젝트라니...',\n",
       " '1 : 지난해부터 친분이 있는 한 배우한테 연기를 부탁했다고 하는데 누굴지 정말 너무 궁금해요',\n",
       " '2 : 그러게요! 근데 애니메이션인데 배우가 필요하다니...',\n",
       " '2 : 성우를 부탁한 걸까요?',\n",
       " '3 : 아니면 실사와 애니메이션을 섞은 걸 수도 있겠네요!',\n",
       " '1 : 사실 뭐가 되었든 파격적인 결정이라고 생각해요',\n",
       " '2 : 저도 그렇게 생각해요',\n",
       " '3 : 다방면으로 도전하는 모습이 참 멋지신 것 같아요',\n",
       " '1 : 개봉하려면 최소 3~4년 정도는 걸릴테지만 개봉하면 같이 보러 가실래요?',\n",
       " '2 : 너무 너무 좋아요!',\n",
       " '2 : 그때 쯤이면 극장도 편하게 갈 수 있겠죠?',\n",
       " '3 : 하하 네 좋아요! 벌써 기대되네요!']"
      ]
     },
     "execution_count": 8,
     "metadata": {},
     "output_type": "execute_result"
    }
   ],
   "source": [
    "texts = texts.split('\\n')\n",
    "texts"
   ]
  },
  {
   "cell_type": "markdown",
   "metadata": {},
   "source": [
    "### 정규표현식 적용\n",
    "(숫자 한자리 :)의 형식을 만족하는 대화 필터링"
   ]
  },
  {
   "cell_type": "code",
   "execution_count": 9,
   "metadata": {},
   "outputs": [
    {
     "name": "stdout",
     "output_type": "stream",
     "text": [
      "1 : 다들 기생충 보셨어요?\n",
      "2 : 오스카 상 후보에 올랐단 소식 듣고 바로 봤어요\n",
      "3 : 저는 개인적으로 다크한 걸 안 좋아해서 아직 못 봤어요\n",
      "1 : 음...그럴 수 있죠!\n",
      "1 : 봉준호 감독이 차기작을 준비하고 있다고 해서 한 번 그냥 물어봤어요 하하\n",
      "2 : 오오 차기작이요? 기대되는 걸요?\n",
      "3 : 정말요? 어떤 내용이래요?\n",
      "1 : 사실 기생충 이전부터 준비하던 시나리오인데 애니메이션으로 제작될 예정이래요\n",
      "2 : 헉 정말 애니메이션이래요?\n",
      "3 : 와우... 애니메이션이라니... 조금 놀랍네요\n",
      "1 : 그쵸? 자신이 디스크가 있는 줄 아는 무척추 심해어와 해양생물 관련한 시나리오를 이미 완성했다고 하더라고요\n",
      "2 : 기생충 이후로 2년만인가요...\n",
      "3 : 애니메이션이면 개봉하면 저도 꼭 봐야겠어요!\n",
      "1 : 이게 또 순수 한국 프로젝트로 제작되는 거라고 하더라고요\n",
      "2 : 오오 국뽕이 차오르는걸요?!\n",
      "3 : 그러게요! 이제 그 감독님 작품은 세계 곧곧에서 조명을 받을텐데 순수 한국 프로젝트라니...\n",
      "1 : 지난해부터 친분이 있는 한 배우한테 연기를 부탁했다고 하는데 누굴지 정말 너무 궁금해요\n",
      "2 : 그러게요! 근데 애니메이션인데 배우가 필요하다니...\n",
      "2 : 성우를 부탁한 걸까요?\n",
      "3 : 아니면 실사와 애니메이션을 섞은 걸 수도 있겠네요!\n",
      "1 : 사실 뭐가 되었든 파격적인 결정이라고 생각해요\n",
      "2 : 저도 그렇게 생각해요\n",
      "3 : 다방면으로 도전하는 모습이 참 멋지신 것 같아요\n",
      "1 : 개봉하려면 최소 3~4년 정도는 걸릴테지만 개봉하면 같이 보러 가실래요?\n",
      "2 : 너무 너무 좋아요!\n",
      "2 : 그때 쯤이면 극장도 편하게 갈 수 있겠죠?\n",
      "3 : 하하 네 좋아요! 벌써 기대되네요!\n"
     ]
    }
   ],
   "source": [
    "pattern = r'^\\d :.*$'\n",
    "\n",
    "for text in texts:\n",
    "    if re.match(pattern, text):\n",
    "        print(text)\n"
   ]
  },
  {
   "cell_type": "code",
   "execution_count": 10,
   "metadata": {},
   "outputs": [
    {
     "data": {
      "text/html": [
       "<div>\n",
       "<style scoped>\n",
       "    .dataframe tbody tr th:only-of-type {\n",
       "        vertical-align: middle;\n",
       "    }\n",
       "\n",
       "    .dataframe tbody tr th {\n",
       "        vertical-align: top;\n",
       "    }\n",
       "\n",
       "    .dataframe thead th {\n",
       "        text-align: right;\n",
       "    }\n",
       "</style>\n",
       "<table border=\"1\" class=\"dataframe\">\n",
       "  <thead>\n",
       "    <tr style=\"text-align: right;\">\n",
       "      <th></th>\n",
       "      <th>0</th>\n",
       "    </tr>\n",
       "  </thead>\n",
       "  <tbody>\n",
       "    <tr>\n",
       "      <th>0</th>\n",
       "      <td>다들 기생충 보셨어요?</td>\n",
       "    </tr>\n",
       "    <tr>\n",
       "      <th>1</th>\n",
       "      <td>오스카 상 후보에 올랐단 소식 듣고 바로 봤어요</td>\n",
       "    </tr>\n",
       "    <tr>\n",
       "      <th>2</th>\n",
       "      <td>저는 개인적으로 다크한 걸 안 좋아해서 아직 못 봤어요</td>\n",
       "    </tr>\n",
       "    <tr>\n",
       "      <th>3</th>\n",
       "      <td>음...그럴 수 있죠!</td>\n",
       "    </tr>\n",
       "    <tr>\n",
       "      <th>4</th>\n",
       "      <td>봉준호 감독이 차기작을 준비하고 있다고 해서 한 번 그냥 물어봤어요 하하</td>\n",
       "    </tr>\n",
       "    <tr>\n",
       "      <th>5</th>\n",
       "      <td>오오 차기작이요? 기대되는 걸요?</td>\n",
       "    </tr>\n",
       "    <tr>\n",
       "      <th>6</th>\n",
       "      <td>정말요? 어떤 내용이래요?</td>\n",
       "    </tr>\n",
       "    <tr>\n",
       "      <th>7</th>\n",
       "      <td>사실 기생충 이전부터 준비하던 시나리오인데 애니메이션으로 제작될 예정이래요</td>\n",
       "    </tr>\n",
       "    <tr>\n",
       "      <th>8</th>\n",
       "      <td>헉 정말 애니메이션이래요?</td>\n",
       "    </tr>\n",
       "    <tr>\n",
       "      <th>9</th>\n",
       "      <td>와우... 애니메이션이라니... 조금 놀랍네요</td>\n",
       "    </tr>\n",
       "    <tr>\n",
       "      <th>10</th>\n",
       "      <td>그쵸? 자신이 디스크가 있는 줄 아는 무척추 심해어와 해양생물 관련한 시나리오를 이...</td>\n",
       "    </tr>\n",
       "    <tr>\n",
       "      <th>11</th>\n",
       "      <td>기생충 이후로 2년만인가요...</td>\n",
       "    </tr>\n",
       "    <tr>\n",
       "      <th>12</th>\n",
       "      <td>애니메이션이면 개봉하면 저도 꼭 봐야겠어요!</td>\n",
       "    </tr>\n",
       "    <tr>\n",
       "      <th>13</th>\n",
       "      <td>이게 또 순수 한국 프로젝트로 제작되는 거라고 하더라고요</td>\n",
       "    </tr>\n",
       "    <tr>\n",
       "      <th>14</th>\n",
       "      <td>오오 국뽕이 차오르는걸요?!</td>\n",
       "    </tr>\n",
       "    <tr>\n",
       "      <th>15</th>\n",
       "      <td>그러게요! 이제 그 감독님 작품은 세계 곧곧에서 조명을 받을텐데 순수 한국 프로젝트...</td>\n",
       "    </tr>\n",
       "    <tr>\n",
       "      <th>16</th>\n",
       "      <td>지난해부터 친분이 있는 한 배우한테 연기를 부탁했다고 하는데 누굴지 정말 너무 궁금해요</td>\n",
       "    </tr>\n",
       "    <tr>\n",
       "      <th>17</th>\n",
       "      <td>그러게요! 근데 애니메이션인데 배우가 필요하다니...</td>\n",
       "    </tr>\n",
       "    <tr>\n",
       "      <th>18</th>\n",
       "      <td>성우를 부탁한 걸까요?</td>\n",
       "    </tr>\n",
       "    <tr>\n",
       "      <th>19</th>\n",
       "      <td>아니면 실사와 애니메이션을 섞은 걸 수도 있겠네요!</td>\n",
       "    </tr>\n",
       "    <tr>\n",
       "      <th>20</th>\n",
       "      <td>사실 뭐가 되었든 파격적인 결정이라고 생각해요</td>\n",
       "    </tr>\n",
       "    <tr>\n",
       "      <th>21</th>\n",
       "      <td>저도 그렇게 생각해요</td>\n",
       "    </tr>\n",
       "    <tr>\n",
       "      <th>22</th>\n",
       "      <td>다방면으로 도전하는 모습이 참 멋지신 것 같아요</td>\n",
       "    </tr>\n",
       "    <tr>\n",
       "      <th>23</th>\n",
       "      <td>개봉하려면 최소 3~4년 정도는 걸릴테지만 개봉하면 같이 보러 가실래요?</td>\n",
       "    </tr>\n",
       "    <tr>\n",
       "      <th>24</th>\n",
       "      <td>너무 너무 좋아요!</td>\n",
       "    </tr>\n",
       "    <tr>\n",
       "      <th>25</th>\n",
       "      <td>그때 쯤이면 극장도 편하게 갈 수 있겠죠?</td>\n",
       "    </tr>\n",
       "    <tr>\n",
       "      <th>26</th>\n",
       "      <td>하하 네 좋아요! 벌써 기대되네요!</td>\n",
       "    </tr>\n",
       "  </tbody>\n",
       "</table>\n",
       "</div>"
      ],
      "text/plain": [
       "                                                    0\n",
       "0                                        다들 기생충 보셨어요?\n",
       "1                          오스카 상 후보에 올랐단 소식 듣고 바로 봤어요\n",
       "2                      저는 개인적으로 다크한 걸 안 좋아해서 아직 못 봤어요\n",
       "3                                        음...그럴 수 있죠!\n",
       "4            봉준호 감독이 차기작을 준비하고 있다고 해서 한 번 그냥 물어봤어요 하하\n",
       "5                                  오오 차기작이요? 기대되는 걸요?\n",
       "6                                      정말요? 어떤 내용이래요?\n",
       "7           사실 기생충 이전부터 준비하던 시나리오인데 애니메이션으로 제작될 예정이래요\n",
       "8                                      헉 정말 애니메이션이래요?\n",
       "9                           와우... 애니메이션이라니... 조금 놀랍네요\n",
       "10  그쵸? 자신이 디스크가 있는 줄 아는 무척추 심해어와 해양생물 관련한 시나리오를 이...\n",
       "11                                  기생충 이후로 2년만인가요...\n",
       "12                           애니메이션이면 개봉하면 저도 꼭 봐야겠어요!\n",
       "13                    이게 또 순수 한국 프로젝트로 제작되는 거라고 하더라고요\n",
       "14                                    오오 국뽕이 차오르는걸요?!\n",
       "15  그러게요! 이제 그 감독님 작품은 세계 곧곧에서 조명을 받을텐데 순수 한국 프로젝트...\n",
       "16   지난해부터 친분이 있는 한 배우한테 연기를 부탁했다고 하는데 누굴지 정말 너무 궁금해요\n",
       "17                      그러게요! 근데 애니메이션인데 배우가 필요하다니...\n",
       "18                                       성우를 부탁한 걸까요?\n",
       "19                       아니면 실사와 애니메이션을 섞은 걸 수도 있겠네요!\n",
       "20                          사실 뭐가 되었든 파격적인 결정이라고 생각해요\n",
       "21                                        저도 그렇게 생각해요\n",
       "22                         다방면으로 도전하는 모습이 참 멋지신 것 같아요\n",
       "23           개봉하려면 최소 3~4년 정도는 걸릴테지만 개봉하면 같이 보러 가실래요?\n",
       "24                                         너무 너무 좋아요!\n",
       "25                            그때 쯤이면 극장도 편하게 갈 수 있겠죠?\n",
       "26                                하하 네 좋아요! 벌써 기대되네요!"
      ]
     },
     "execution_count": 10,
     "metadata": {},
     "output_type": "execute_result"
    }
   ],
   "source": [
    "pattern = r'^\\d :.*$'\n",
    "talks = []\n",
    "\n",
    "for text in texts:\n",
    "    if re.match(pattern, text):\n",
    "        line = text.split(':')[1]\n",
    "        if line.startswith(' ') == True:\n",
    "            line = line.lstrip(' ')  \n",
    "    talks.append(line)\n",
    "talks\n",
    "\n",
    "df = pd.DataFrame(data=talks, columns=None)\n",
    "df"
   ]
  },
  {
   "cell_type": "code",
   "execution_count": 11,
   "metadata": {},
   "outputs": [],
   "source": [
    "# talks = []\n",
    "# for text in texts:\n",
    "#     line = text.split(':')[1]\n",
    "#     if line.startswith(' ') == True:\n",
    "#         line = line.lstrip(' ')  \n",
    "#     talks.append(line)\n",
    "# print(talks)\n",
    "\n",
    "# df = pd.DataFrame(data=talks, columns=None)\n",
    "# df"
   ]
  },
  {
   "cell_type": "markdown",
   "metadata": {},
   "source": [
    "### csv로 저장"
   ]
  },
  {
   "cell_type": "code",
   "execution_count": 12,
   "metadata": {},
   "outputs": [],
   "source": [
    "df.to_csv('./talk_data/영화 주제 대화 말뭉치_테스트용.csv', index=None)"
   ]
  }
 ],
 "metadata": {
  "kernelspec": {
   "display_name": "Python 3",
   "language": "python",
   "name": "python3"
  },
  "language_info": {
   "codemirror_mode": {
    "name": "ipython",
    "version": 3
   },
   "file_extension": ".py",
   "mimetype": "text/x-python",
   "name": "python",
   "nbconvert_exporter": "python",
   "pygments_lexer": "ipython3",
   "version": "3.9.13"
  },
  "orig_nbformat": 4
 },
 "nbformat": 4,
 "nbformat_minor": 2
}
