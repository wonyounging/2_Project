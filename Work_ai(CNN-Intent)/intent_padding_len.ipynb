{
 "cells": [
  {
   "cell_type": "code",
   "execution_count": 1,
   "metadata": {},
   "outputs": [],
   "source": [
    "import pandas as pd\n",
    "import numpy as np\n",
    "import matplotlib.pyplot as plt\n",
    "import seaborn as sns\n",
    "from konlpy.tag import Komoran"
   ]
  },
  {
   "cell_type": "markdown",
   "metadata": {},
   "source": [
    "# 적절한 패딩 길이 구하기"
   ]
  },
  {
   "cell_type": "code",
   "execution_count": 2,
   "metadata": {},
   "outputs": [
    {
     "data": {
      "text/html": [
       "<div>\n",
       "<style scoped>\n",
       "    .dataframe tbody tr th:only-of-type {\n",
       "        vertical-align: middle;\n",
       "    }\n",
       "\n",
       "    .dataframe tbody tr th {\n",
       "        vertical-align: top;\n",
       "    }\n",
       "\n",
       "    .dataframe thead th {\n",
       "        text-align: right;\n",
       "    }\n",
       "</style>\n",
       "<table border=\"1\" class=\"dataframe\">\n",
       "  <thead>\n",
       "    <tr style=\"text-align: right;\">\n",
       "      <th></th>\n",
       "      <th>text</th>\n",
       "      <th>label</th>\n",
       "    </tr>\n",
       "  </thead>\n",
       "  <tbody>\n",
       "    <tr>\n",
       "      <th>0</th>\n",
       "      <td>다들 기생충 보셨어요</td>\n",
       "      <td>0</td>\n",
       "    </tr>\n",
       "    <tr>\n",
       "      <th>1</th>\n",
       "      <td>오스카 상 후보에 올랐단 소식 듣고 바로 봤어요</td>\n",
       "      <td>0</td>\n",
       "    </tr>\n",
       "    <tr>\n",
       "      <th>2</th>\n",
       "      <td>저는 개인적으로 다크한 걸 안 좋아해서 아직 못 봤어요</td>\n",
       "      <td>0</td>\n",
       "    </tr>\n",
       "    <tr>\n",
       "      <th>3</th>\n",
       "      <td>음그럴 수 있죠</td>\n",
       "      <td>0</td>\n",
       "    </tr>\n",
       "    <tr>\n",
       "      <th>4</th>\n",
       "      <td>봉준호 감독이 차기작을 준비하고 있다고 해서 한 번 그냥 물어봤어요 하하</td>\n",
       "      <td>0</td>\n",
       "    </tr>\n",
       "  </tbody>\n",
       "</table>\n",
       "</div>"
      ],
      "text/plain": [
       "                                       text  label\n",
       "0                               다들 기생충 보셨어요      0\n",
       "1                오스카 상 후보에 올랐단 소식 듣고 바로 봤어요      0\n",
       "2            저는 개인적으로 다크한 걸 안 좋아해서 아직 못 봤어요      0\n",
       "3                                  음그럴 수 있죠      0\n",
       "4  봉준호 감독이 차기작을 준비하고 있다고 해서 한 번 그냥 물어봤어요 하하      0"
      ]
     },
     "execution_count": 2,
     "metadata": {},
     "output_type": "execute_result"
    }
   ],
   "source": [
    "data = pd.read_csv('c:/2nd_project/Data/talk_data/영화주제 대화 말뭉치 라벨링_최종.csv')\n",
    "data.head()"
   ]
  },
  {
   "cell_type": "code",
   "execution_count": 3,
   "metadata": {},
   "outputs": [
    {
     "data": {
      "text/plain": [
       "(84712, 2)"
      ]
     },
     "execution_count": 3,
     "metadata": {},
     "output_type": "execute_result"
    }
   ],
   "source": [
    "data.shape"
   ]
  },
  {
   "cell_type": "code",
   "execution_count": 4,
   "metadata": {},
   "outputs": [],
   "source": [
    "tokenizer = Komoran()"
   ]
  },
  {
   "cell_type": "code",
   "execution_count": 5,
   "metadata": {},
   "outputs": [],
   "source": [
    "data_tokenized = [[token+\"/\"+POS for token, POS in tokenizer.pos(str(text_))] for text_ in data['text']]\n",
    "\n",
    "exclusion_tags = [\n",
    "    'JKS', 'JKC', 'JKG', 'JKO', 'JKB', 'JKV', 'JKQ',\n",
    "            'JX', 'JC',\n",
    "            'SF', 'SP', 'SS', 'SE', 'SO',\n",
    "            'EP', 'EF', 'EC', 'ETN', 'ETM',\n",
    "            'XSN', 'XSV', 'XSA'\n",
    "]\n",
    "\n",
    "f = lambda x: x in exclusion_tags\n",
    "\n",
    "data_list = []\n",
    "for i in range(len(data_tokenized)):\n",
    "        temp = []\n",
    "        for j in range(len(data_tokenized[i])):\n",
    "            if f(data_tokenized[i][j].split('/')[1]) is False:\n",
    "                temp.append(data_tokenized[i][j].split('/')[0])\n",
    "        data_list.append(temp)"
   ]
  },
  {
   "cell_type": "code",
   "execution_count": 6,
   "metadata": {},
   "outputs": [
    {
     "name": "stdout",
     "output_type": "stream",
     "text": [
      "토큰 길이 평균: 5.98\n",
      "토큰 길이 최대: 167\n",
      "토큰 길이 표준편차: 3.03\n"
     ]
    }
   ],
   "source": [
    "num_tokens = [len(tokens) for tokens in data_list]\n",
    "num_tokens = np.array(num_tokens)\n",
    "\n",
    "# 평균값, 최댓값, 표준편차\n",
    "print(f\"토큰 길이 평균: {round(np.mean(num_tokens),2)}\")\n",
    "print(f\"토큰 길이 최대: {np.max(num_tokens)}\")\n",
    "print(f\"토큰 길이 표준편차: {round(np.std(num_tokens),2)}\")"
   ]
  },
  {
   "cell_type": "code",
   "execution_count": 14,
   "metadata": {},
   "outputs": [
    {
     "data": {
      "image/png": "[encoded data removed]",
      "text/plain": [
       "<Figure size 640x480 with 1 Axes>"
      ]
     },
     "metadata": {},
     "output_type": "display_data"
    }
   ],
   "source": [
    "plt.title('all text length')\n",
    "plt.hist(num_tokens, bins=100, color='lightsalmon')\n",
    "plt.xlabel('length of samples')\n",
    "plt.ylabel('number of samples')\n",
    "plt.xlim(0,30)\n",
    "plt.show()"
   ]
  },
  {
   "cell_type": "code",
   "execution_count": 9,
   "metadata": {},
   "outputs": [
    {
     "name": "stdout",
     "output_type": "stream",
     "text": [
      "전체 샘플 중 길이가 15 이하인 샘플의 비율: 99.1654%\n"
     ]
    }
   ],
   "source": [
    "select_length = 15\n",
    "\n",
    "def below_threshold_len(max_len, nested_list):\n",
    "    cnt = 0\n",
    "    for s in nested_list:\n",
    "        if(len(s) <= max_len):\n",
    "            cnt = cnt + 1\n",
    "        \n",
    "    print('전체 샘플 중 길이가 %s 이하인 샘플의 비율: %s%%'%(max_len, round((cnt / len(nested_list))*100,4)))\n",
    "    \n",
    "below_threshold_len(select_length, data_list)"
   ]
  },
  {
   "cell_type": "code",
   "execution_count": null,
   "metadata": {},
   "outputs": [],
   "source": []
  }
 ],
 "metadata": {
  "kernelspec": {
   "display_name": "Python 3",
   "language": "python",
   "name": "python3"
  },
  "language_info": {
   "codemirror_mode": {
    "name": "ipython",
    "version": 3
   },
   "file_extension": ".py",
   "mimetype": "text/x-python",
   "name": "python",
   "nbconvert_exporter": "python",
   "pygments_lexer": "ipython3",
   "version": "3.9.13"
  },
  "orig_nbformat": 4
 },
 "nbformat": 4,
 "nbformat_minor": 2
}
