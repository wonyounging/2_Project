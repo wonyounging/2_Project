{
 "cells": [
  {
   "cell_type": "code",
   "execution_count": 28,
   "metadata": {},
   "outputs": [
    {
     "name": "stdout",
     "output_type": "stream",
     "text": [
      "WARNING:tensorflow:Layer lstm will not use cuDNN kernels since it doesn't meet the criteria. It will use a generic GPU kernel as fallback when running on GPU.\n",
      "WARNING:tensorflow:Layer lstm will not use cuDNN kernels since it doesn't meet the criteria. It will use a generic GPU kernel as fallback when running on GPU.\n",
      "WARNING:tensorflow:Layer lstm will not use cuDNN kernels since it doesn't meet the criteria. It will use a generic GPU kernel as fallback when running on GPU.\n",
      "1/1 [==============================] - 1s 556ms/step\n",
      "1/1 [==============================] - 0s 84ms/step\n",
      "[('조인성', 'B_ACT'), ('1시', 'B_DT'), ('30분', 'B_DT'), ('월요일', 'B_DT'), ('극한직업', 'B_MOVIE'), ('영화 장르', 'O'), ('공포', 'B_GEN'), ('봉준호', 'B_DIR'), ('감독', 'O'), ('한국', 'B_NAT'), ('영화', 'O'), ('전체관람가', 'O')]\n",
      "['B_ACT', 'B_DT', 'B_DT', 'B_DT', 'B_MOVIE', 'B_GEN', 'B_DIR', 'B_NAT']\n",
      "\n",
      "1/1 [==============================] - 0s 61ms/step\n",
      "1/1 [==============================] - 0s 61ms/step\n",
      "[('그치', 'O'), ('예전', 'O'), ('나오', 'O'), ('영화', 'O'), ('드라마', 'B_GEN'), ('요즘', 'O'), ('더', 'O'), ('심하', 'O'), ('것', 'O'), ('같', 'O')]\n",
      "['B_GEN']\n",
      "\n",
      "1/1 [==============================] - 0s 60ms/step\n",
      "1/1 [==============================] - 0s 63ms/step\n",
      "[('오늘', 'O'), ('한국', 'B_NAT'), ('영화', 'O'), ('이', 'O'), ('명량', 'B_MOVIE'), ('보', 'O'), ('싶', 'O'), ('이번', 'O'), ('주', 'O'), ('목요일', 'B_DT'), ('저녁', 'O'), ('6시', 'B_DT'), ('한가인', 'B_ACT'), ('오', 'O')]\n",
      "['B_NAT', 'B_MOVIE', 'B_DT', 'B_DT', 'B_ACT']\n",
      "\n"
     ]
    }
   ],
   "source": [
    "from Preprocess2 import Preprocess2\n",
    "from NerModel import NerModel\n",
    "\n",
    "p = Preprocess2(word2index_dic='c:/2nd_project/Data/chatbot_dict_talk.bin',\n",
    "               userdic='c:/2nd_project/Data/ner_data/new_user_dic_10.txt')\n",
    "\n",
    "ner = NerModel(model_name='c:/2nd_project/Model/ner_model/ner_model_0816_b.h5', proprocess=p)\n",
    "\n",
    "queries = ['조인성이 1시 30분 월요일에 극한직업영화 장르 공포 봉준호 감독 한국영화 전체관람가',\n",
    "'그치 예전에 나오는 영화나 드라마보다 요즘 더 심한 것 같아', '오늘은 한국영화인 명량이 보고싶군 이번주 목요일 저녁 6시에 한가인도 온데']\n",
    "\n",
    "for query in queries:\n",
    "    predicts = ner.predict(query)\n",
    "    tags = ner.predict_tags(query)\n",
    "\n",
    "    print(predicts)\n",
    "    print(tags)\n",
    "    print()"
   ]
  }
 ],
 "metadata": {
  "kernelspec": {
   "display_name": "Python 3",
   "language": "python",
   "name": "python3"
  },
  "language_info": {
   "codemirror_mode": {
    "name": "ipython",
    "version": 3
   },
   "file_extension": ".py",
   "mimetype": "text/x-python",
   "name": "python",
   "nbconvert_exporter": "python",
   "pygments_lexer": "ipython3",
   "version": "3.9.13"
  },
  "orig_nbformat": 4
 },
 "nbformat": 4,
 "nbformat_minor": 2
}
